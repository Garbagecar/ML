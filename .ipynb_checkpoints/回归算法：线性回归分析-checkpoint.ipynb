{
 "cells": [
  {
   "cell_type": "markdown",
   "id": "0d262f56-a55e-4f15-9f73-03cbdef29ccd",
   "metadata": {},
   "source": [
    "# 回归算法：线性回归分析\n",
    "\n",
    "- 分类型算法：目标值离散\n",
    "- 回归型算法：目标值连续\n",
    "- 回归型算法作用：房价预测，销售额预测，贷款额度..."
   ]
  },
  {
   "cell_type": "markdown",
   "id": "9583dd4a-fe60-49fc-a0e9-1cc5d0e957e5",
   "metadata": {
    "tags": []
   },
   "source": [
    "## <mark style=background-color:pink>一、线性回归分析<mark>"
   ]
  },
  {
   "cell_type": "markdown",
   "id": "a35b54cd-24d9-4f1f-82f5-ff3d940e0fc4",
   "metadata": {},
   "source": [
    "### 例：房子面积和价格的关系\n",
    "\n",
    "|编号|平方米|价格|\n",
    "|----|-----|----|\n",
    "|1|60|126|\n",
    "|2|72|151.2|\n",
    "|3|75|157.5|\n",
    "|4|80|168|\n",
    "|5|83|174.3|\n",
    "|6|87|180|\n",
    "|7|90|192.2|\n",
    "|8|93|194|"
   ]
  },
  {
   "cell_type": "code",
   "execution_count": 8,
   "id": "05200587-b2c0-48d0-ad82-4006322a6170",
   "metadata": {
    "tags": []
   },
   "outputs": [
    {
     "data": {
      "image/png": "[encoded data removed]",
      "text/plain": [
       "<Figure size 400x400 with 1 Axes>"
      ]
     },
     "metadata": {
      "needs_background": "light"
     },
     "output_type": "display_data"
    }
   ],
   "source": [
    "#绘图看看面积和房价的关系\n",
    "\n",
    "#导入pyplot\n",
    "from matplotlib import pyplot as plt\n",
    "\n",
    "#数据\n",
    "X = [60,72,75,80,83,87,90,93]\n",
    "Y = [126,151.2,157.5,168,174.3,180,192.2,194]\n",
    "\n",
    "#设置字体，防止中文和负号乱码\n",
    "plt.rcParams['font.sans-serif'] = ['KaiTi']\n",
    "plt.rcParams['axes.unicode_minus']=False\n",
    "\n",
    "\n",
    "#散点图scatter\n",
    "plt.figure(figsize=(5,5),dpi=80)\n",
    "plt.title('房子面积和价格之间的关系')\n",
    "plt.xlabel('面积')\n",
    "plt.ylabel('房价')\n",
    "plt.xticks(X)\n",
    "plt.yticks(Y)\n",
    "plt.scatter(X,Y)\n",
    "plt.show()"
   ]
  },
  {
   "cell_type": "markdown",
   "id": "846226fc-bffd-437b-b53d-f3e88654ef21",
   "metadata": {},
   "source": [
    "从上图可以看出，面积和房价之间存在**线性关系**\n",
    "\n",
    "**线性关系**：\n",
    "- 二维：直线关系\n",
    "- 三维：平面\n",
    "- 四维：..."
   ]
  },
  {
   "cell_type": "markdown",
   "id": "ab374977-0ad7-462d-b4e1-ab6be4f5e8d3",
   "metadata": {
    "tags": []
   },
   "source": [
    "### 线性关系模型\n",
    "- 一个通过属性(特征)的线性组合来进行预测的函数\n",
    "- **$f(x) = w_{1}x_{1} + w_{2}x_{2} + w_{3}x_{3} + ... + w_{k}x_{k} + b$**\n",
    "- $f(x)$：目标值，预测值\n",
    "- $w_{i}$：每个属性(特征)的权重\n",
    "- b：偏置项，误差项，可以理解为：$w_{0}x_{0}$，$x_{0}=1$"
   ]
  },
  {
   "cell_type": "markdown",
   "id": "c3da86a7-bbf4-4d78-b234-a7dc7e181202",
   "metadata": {},
   "source": [
    "### 线性回归\n",
    "- 定义：线性回归通过一个或者多个自变量与因变量之间进行建模的回归分析\n",
    "- 一元线性回归：自变量只有一个\n",
    "- 多元线性回归：自变量有两个或两个以上\n",
    "- 通用公式：$h(w) = w_{0}x_{0} + w_{1}x_{1} + w_{2}x_{2} + w_{3}x_{3} +... = W^{T}X$，其中W、X为列向量，$x_{0} = 1$"
   ]
  },
  {
   "cell_type": "markdown",
   "id": "c6464ece-e1e6-4ac4-812d-6e178ad79175",
   "metadata": {},
   "source": [
    "### 迭代的算法\n",
    "- 回归、神经网络...\n",
    "- 因为预测的时候预测值和真实值之间有差距，也就是**误差**\n",
    "- 算法通过不断迭代，使得**误差**达到最小值"
   ]
  },
  {
   "cell_type": "markdown",
   "id": "c69804d0-fdf9-4363-b34c-9d1471657e8e",
   "metadata": {},
   "source": [
    "### 损失函数\n",
    "- 误差的大小\n",
    "- $y_{i}$：第i个训练样本的真实值\n",
    "- $h_{w}(x_{i})$：第i个训练样本特征值组合预测函数\n",
    "- 总损失定义：$J(\\theta)=\\sum_{i=1}^{m} (h_{w}(x_{i}) - y_{i})^{2}$，又称为最小二乘法\n",
    "- 如何去求模型当中的$W$(各特征的权重系数)，使得损失函数取得最小值？"
   ]
  },
  {
   "cell_type": "markdown",
   "id": "2c4de3db-cf2d-466d-bf82-3093e0cbbb00",
   "metadata": {
    "tags": []
   },
   "source": [
    "### 损失函数达到最小值：最小二乘法之正规方程(不作要求)\n",
    "- 求解：$W = (X^{T}X)^{-1}X^{T}Y$\n",
    "- X：特征值矩阵\n",
    "- Y：目标值矩阵\n",
    "- 直接求到最小值\n",
    "- 缺点：当特征过于复杂时，求解速度太慢"
   ]
  },
  {
   "cell_type": "markdown",
   "id": "7b9ab737-198a-49f2-9346-a80fc6d32490",
   "metadata": {
    "tags": []
   },
   "source": [
    "### 损失函数达到最小值：最小二乘法之梯度下降\n",
    "- 学习率：lr\n",
    "- 给定初始权重$W$：${w_{0},w_{1}...}$\n",
    "- 通过初始权重，学习率，和**损失函数在初始权重的梯度**，不断迭代，直到找到最优权重，使得损失函数达到最小值(可能是局部最小值)\n",
    "- $w_{i} = w_{i} - lr*gradJ(W)$"
   ]
  },
  {
   "cell_type": "markdown",
   "id": "e9194c57-8cb1-49b6-86fc-b9f2c47d557e",
   "metadata": {},
   "source": [
    "### sklearn中的线性回归之正规方程、梯度下降\n",
    "正规方程：**sklearn.linear_model.LinearRegression**\n",
    "- 普通最小二乘线性回归\n",
    "- coef_：回归系数，也就是权重\n",
    "\n",
    "梯度下降：**sklearn.linear_model.SGDRegressor**\n",
    "- 通过使用SGD最小化线性模型\n",
    "- coef_：回归系数，也就会权重"
   ]
  },
  {
   "cell_type": "markdown",
   "id": "8c80448f-d049-4957-a4e0-706b5fe23ad0",
   "metadata": {},
   "source": [
    "## <mark style=background-color:pink>二、线性回归实例<mark>\n",
    "- 波士顿房价数据集\n",
    "    \n",
    "|属性名|解释|类型|\n",
    "|------|---|----|\n",
    "|CRIM|该镇的人均犯罪率|连续型|\n",
    "|ZN|占地面积超过2.5万平方尺的住宅用地比例|连续型|\n",
    "|INDUS|非零售商业用地比例|连续型|\n",
    "|CHAS|是否邻近Charles River|离散型，1=邻近，0=不邻近|\n",
    "|NOX|一氧化氮浓度|连续型|\n",
    "|RM|每栋房屋的平均客房数|连续型|\n",
    "|AGE|1940年之间建成的自用单位比例|连续型|\n",
    "|DIS|到波士顿5个就业中心的加权距离|连续型|\n",
    "|RAD|到径向公路的可达性指数|连续型|\n",
    "|TAX|全值财产税率|连续型|\n",
    "|PTRATIO|学生与教师的比例|连续型|\n",
    "|B|1000(BK-0.63)^2,其中BK为黑人占比|连续型|\n",
    "|LSTAT|低收入人群占比|连续型|\n",
    "|MEDV|同类房屋价格的中位数|连续型|"
   ]
  },
  {
   "cell_type": "markdown",
   "id": "e56ebbfa-53e0-4fb3-8599-5a094e28db0d",
   "metadata": {},
   "source": [
    "### ①波士顿地区房价数据获取"
   ]
  },
  {
   "cell_type": "code",
   "execution_count": null,
   "id": "e13c8292-0fc1-4b1f-897f-d9be04f0df5d",
   "metadata": {},
   "outputs": [],
   "source": []
  },
  {
   "cell_type": "markdown",
   "id": "ed898a80-538f-47c4-9a7a-2510a262f258",
   "metadata": {
    "tags": []
   },
   "source": [
    "### ②波士顿地区房价数据集划分"
   ]
  },
  {
   "cell_type": "markdown",
   "id": "796fa4d7-41fb-43a7-8429-e4400c0c4d75",
   "metadata": {
    "tags": []
   },
   "source": [
    "### ③训练集和测试集数据标准化处理"
   ]
  },
  {
   "cell_type": "markdown",
   "id": "de981d7b-da22-4f72-8c1b-5ac1debc3632",
   "metadata": {},
   "source": [
    "### ④使用最简单的线性回归模型LinearRegression和梯度下降估计SDGRegressor对房价进行预测"
   ]
  },
  {
   "cell_type": "markdown",
   "id": "ee7ae941-907b-4932-89a6-ee59f9e99ac2",
   "metadata": {},
   "source": [
    "## <mark style=background-color:pink>三、回归性能评估<mark>"
   ]
  },
  {
   "cell_type": "code",
   "execution_count": null,
   "id": "65d7af0c-6490-4178-b18b-332c9418b826",
   "metadata": {},
   "outputs": [],
   "source": []
  },
  {
   "cell_type": "code",
   "execution_count": null,
   "id": "4515c48e-50a2-49f8-97c9-c4a3bed343e1",
   "metadata": {},
   "outputs": [],
   "source": []
  }
 ],
 "metadata": {
  "kernelspec": {
   "display_name": "Python 3 (ipykernel)",
   "language": "python",
   "name": "python3"
  },
  "language_info": {
   "codemirror_mode": {
    "name": "ipython",
    "version": 3
   },
   "file_extension": ".py",
   "mimetype": "text/x-python",
   "name": "python",
   "nbconvert_exporter": "python",
   "pygments_lexer": "ipython3",
   "version": "3.9.7"
  }
 },
 "nbformat": 4,
 "nbformat_minor": 5
}
