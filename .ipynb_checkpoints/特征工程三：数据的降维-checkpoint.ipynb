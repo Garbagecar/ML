{
 "cells": [
  {
   "cell_type": "markdown",
   "id": "677c7f98-3e0b-48c9-a28e-12fe736c09db",
   "metadata": {},
   "source": [
    "# 特征工程三：数据的降维"
   ]
  },
  {
   "cell_type": "markdown",
   "id": "acc941eb-43f9-476d-840f-9ee3aebd919c",
   "metadata": {},
   "source": [
    "## <mark style=background-color:pink>什么是数据降维<mark>\n",
    "    \n",
    "降维：**减少特征的个数**\n",
    "    \n",
    "进行数据降维的原因：\n",
    "- **冗余**：部分特征的**相关度高**，容易消耗计算性能\n",
    "- **噪声**：部分特征对预测结果有影响"
   ]
  },
  {
   "cell_type": "markdown",
   "id": "daa357d3-9789-40d2-af97-ea354ee02320",
   "metadata": {
    "tags": []
   },
   "source": [
    "## <mark style=background-color:pink>sklearn中数据降维的API<mark>\n",
    "    \n",
    "- **sklearn.feature_selection**\n",
    "- **sklearn.decomposition**"
   ]
  },
  {
   "cell_type": "markdown",
   "id": "810ddd93-823d-44b9-9164-f0d77ebd4c3d",
   "metadata": {
    "tags": []
   },
   "source": [
    "## <mark style=background-color:pink>数据降维的两种方法<mark>\n",
    "    \n",
    "方法一：**特征选择**\n",
    "    \n",
    "    特征选择是什么：\n",
    "    - 特征选择就是单纯地从提取到的所有特征中，选择部分特征，作为训练接特征\n",
    "    - 特征在选择前和选择后可以改变对应的特征值，也可以不改变对应的特征值\n",
    "    - 但是选择后的特征的维数，肯定比选择前小，毕竟只选择了其中的一部分特征\n",
    "    \n",
    "    主要方法：\n",
    "    - Filter（过滤式）：VarianceThreshold\n",
    "    - Embedded（嵌入式）：正则化、决策树\n",
    "    - Wrapper（包裹式） ※基本不会用\n",
    "    \n",
    "    这里主要是过滤式中的方差选择(VarianceThreshold)\n",
    "    \n",
    "方法二：**主成分分析(PCA)**\n",
    "    \n",
    "    主成分分析(PCA)是什么：\n",
    "    - 本质：PCA是一种分析、简化数据集的技术\n",
    "    - 目的：是数据特征维数压缩，尽可能降低元数据的特征维数(复杂度)，会损失少量信息\n",
    "    - 作用：可以削减回归分析或者聚类分析中特征的数量"
   ]
  },
  {
   "cell_type": "markdown",
   "id": "5da72ea6-5349-4324-8110-86c6ab94c9e9",
   "metadata": {
    "tags": []
   },
   "source": [
    "## <mark style=background-color:pink>数据降维的方法一：特征选择之过滤式-方差选择<mark>\n",
    "    \n",
    "- 类：**sklearn.feature_selection.VarianceThreshold**\n",
    "- 作用：减少特征的个数\n",
    "- 实例化语法：**vt=VarianceThreshold(threshold=0.0)**"
   ]
  },
  {
   "cell_type": "code",
   "execution_count": 1,
   "id": "bc4f989c-6ec3-4941-8ce7-8dedf8643be3",
   "metadata": {},
   "outputs": [],
   "source": [
    "#导入方差选择的类\n",
    "from sklearn.feature_selection import VarianceThreshold"
   ]
  },
  {
   "cell_type": "markdown",
   "id": "df69ed63-1bea-4854-bb02-b4975e6d9d2c",
   "metadata": {
    "tags": []
   },
   "source": [
    "### <mark>实例化方法一：**vt.fit_transform(X)**<mark>\n",
    "\n",
    "其中X为**numpy array格式的数据(n_samples,n_features)**，返回值：**训练集差异低于threshold的特征将被删除**，默认值是保留所有非零方差特征，即删除样本中所有特征值都相同的特征"
   ]
  },
  {
   "cell_type": "code",
   "execution_count": 2,
   "id": "c2ffab01-9f19-4aab-bc67-3ffab43f5536",
   "metadata": {},
   "outputs": [],
   "source": [
    "#实例化方差选择的类\n",
    "vt = VarianceThreshold(threshold=0.0)"
   ]
  },
  {
   "cell_type": "code",
   "execution_count": 3,
   "id": "31166654-d5f6-4da2-8309-608df9acfc67",
   "metadata": {},
   "outputs": [],
   "source": [
    "#需要进行方差选择减少特征的数据X\n",
    "X = [[0,2,0,3],[0,1,4,3],[0,1,1,3]]"
   ]
  },
  {
   "cell_type": "code",
   "execution_count": 4,
   "id": "ba61e6e4-b81a-4d89-a034-dc2cb2b0ba0e",
   "metadata": {},
   "outputs": [],
   "source": [
    "#通过实例化方法vt.fit_transform()对X的特征进行选择\n",
    "data = vt.fit_transform(X)"
   ]
  },
  {
   "cell_type": "code",
   "execution_count": 5,
   "id": "fb799fd8-d762-4ed4-98ea-27b83c60efb8",
   "metadata": {},
   "outputs": [
    {
     "name": "stdout",
     "output_type": "stream",
     "text": [
      "[[2 0]\n",
      " [1 4]\n",
      " [1 1]]\n"
     ]
    }
   ],
   "source": [
    "#打印data看看方差选择后特征减少的数据\n",
    "print(data)"
   ]
  },
  {
   "cell_type": "markdown",
   "id": "c236d376-1958-4e35-9529-8e66f3629ec4",
   "metadata": {},
   "source": [
    "## <mark style=background-color:pink>数据降维的方法二：主成分分析(PCA)<mark>\n",
    "    \n",
    "- 类：**sklearn.decomposition.PCA**\n",
    "- 作用：减少特征的个数，尽量减小信息量的损失\n",
    "- 实例化语法：**pca=PCA(n_components=None)**\n",
    "     其中**n_components**为**小数**时其常用范围为0.9-0.95，**n_components**为整数时指减少特征后剩余特征的数量，\n"
   ]
  },
  {
   "cell_type": "code",
   "execution_count": 6,
   "id": "ef0a12f6-7794-4b0c-aee5-6a867393fe52",
   "metadata": {},
   "outputs": [],
   "source": [
    "#导入PCA的类\n",
    "from sklearn.decomposition import PCA"
   ]
  },
  {
   "cell_type": "markdown",
   "id": "eecc1ed0-aa3e-4174-a0c9-0e16569c621b",
   "metadata": {},
   "source": [
    "### <mark>实例化方法一：**pca.fit_transform(X)**<mark>\n",
    "\n",
    "其中X为**numpy array格式的数据(n_samples,n_features)**，返回值：**转换后指定维度的array**"
   ]
  },
  {
   "cell_type": "code",
   "execution_count": 7,
   "id": "b97a1c7e-ff40-46cd-8cdb-5e557ee1c6a4",
   "metadata": {},
   "outputs": [],
   "source": [
    "#实例化PCA的类\n",
    "pca = PCA(n_components=0.9)"
   ]
  },
  {
   "cell_type": "code",
   "execution_count": 8,
   "id": "802f0a43-7fbc-407b-a865-993f2a9e9311",
   "metadata": {},
   "outputs": [],
   "source": [
    "#需要进行PCA选择减少特征的数据X\n",
    "X = [[0,2,0,3],[0,1,4,3],[0,1,1,3]]"
   ]
  },
  {
   "cell_type": "code",
   "execution_count": 9,
   "id": "9b8268a4-063c-44bb-ba8e-20faaf5e02d5",
   "metadata": {},
   "outputs": [],
   "source": [
    "#通过实例化方法pca.fit_transform()对X的特征进行选择\n",
    "data = pca.fit_transform(X)"
   ]
  },
  {
   "cell_type": "code",
   "execution_count": 10,
   "id": "3e4d2ccf-76b3-41ca-8804-a456f250b2b5",
   "metadata": {},
   "outputs": [
    {
     "name": "stdout",
     "output_type": "stream",
     "text": [
      "[[-1.76504522]\n",
      " [ 2.35339362]\n",
      " [-0.58834841]]\n"
     ]
    }
   ],
   "source": [
    "#打印data看看方差选择后特征减少的数据\n",
    "print(data)"
   ]
  },
  {
   "cell_type": "markdown",
   "id": "ee9ae738-057c-4d67-804f-277587b202d1",
   "metadata": {
    "tags": []
   },
   "source": [
    "### <mark>主成分分析(PCA)的特点总结<mark>\n",
    "    \n",
    "- 特征数量达到上百个时才会使用\n",
    "- 在对数据进行主成分分析后，特征的数量会减少，但同时特征数值也在改变，特征意义也逐渐变得不可读，存在信息量损失\n",
    "- 有些算法是必须使用PCA的"
   ]
  }
 ],
 "metadata": {
  "kernelspec": {
   "display_name": "Python 3 (ipykernel)",
   "language": "python",
   "name": "python3"
  },
  "language_info": {
   "codemirror_mode": {
    "name": "ipython",
    "version": 3
   },
   "file_extension": ".py",
   "mimetype": "text/x-python",
   "name": "python",
   "nbconvert_exporter": "python",
   "pygments_lexer": "ipython3",
   "version": "3.9.7"
  }
 },
 "nbformat": 4,
 "nbformat_minor": 5
}
