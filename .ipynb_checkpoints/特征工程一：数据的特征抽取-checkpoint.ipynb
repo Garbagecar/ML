{
 "cells": [
  {
   "cell_type": "markdown",
   "id": "91bdeeaa-571b-44aa-a57e-be955b664897",
   "metadata": {},
   "source": [
    "# 特征工程一：数据的特征抽取"
   ]
  },
  {
   "cell_type": "markdown",
   "id": "57984865-a0ca-4772-99bb-6bdf1ea0252b",
   "metadata": {},
   "source": [
    "## <mark style=background-color:pink>什么是特征抽取<mark>\n",
    "    \n",
    "特征抽取就是对**文本**等数据进行特征值化（转换为**数值型数据**）"
   ]
  },
  {
   "cell_type": "markdown",
   "id": "078a3a9f-72aa-47a4-99cf-35fd663c18de",
   "metadata": {
    "tags": []
   },
   "source": [
    "## <mark style=background-color:pink>sklearn中特征抽取的API<mark>\n",
    "    \n",
    "- **sklearn.feature_extraction**\n",
    "- **sklearn.feature_extraction.text**"
   ]
  },
  {
   "cell_type": "markdown",
   "id": "02ef14c3-9161-4b91-ba3c-fc50bd0cfe9e",
   "metadata": {
    "tags": [],
    "toc-hr-collapsed": true
   },
   "source": [
    "## <mark style=background-color:pink>对字典数据特征抽取：DictVectorizer<mark>\n",
    "    \n",
    "- 类：**sklearn.feature_extraction.DictVectorizer**\n",
    "- 作用：对字典数据进行特征值化\n",
    "- 实例化语法：**dictvec=DictVectorizer(sparse=True，...)**\n"
   ]
  },
  {
   "cell_type": "code",
   "execution_count": 2,
   "id": "6e7f6bd3-3273-43bb-94b6-d4cc38d9c684",
   "metadata": {},
   "outputs": [],
   "source": [
    "#导入字典特征抽取的类\n",
    "from sklearn.feature_extraction import DictVectorizer"
   ]
  },
  {
   "cell_type": "markdown",
   "id": "193459ff-f049-4347-b90e-e2f595c81c5c",
   "metadata": {
    "tags": []
   },
   "source": [
    "### <mark>实例化方法一：**dictvec.fit_transform(X)**<mark>\n",
    "\n",
    "其中X为**字典或者包含字典的迭代器**，返回值：返回**sparse矩阵**"
   ]
  },
  {
   "cell_type": "code",
   "execution_count": 4,
   "id": "7cd015dc-759f-4df5-9f21-4e7679d73476",
   "metadata": {},
   "outputs": [],
   "source": [
    "#实例化字典特征抽取的类\n",
    "dictvec = DictVectorizer()"
   ]
  },
  {
   "cell_type": "code",
   "execution_count": 12,
   "id": "ac88fd77-4d7a-49e2-a2ab-ba98dcef7227",
   "metadata": {},
   "outputs": [],
   "source": [
    "#需要进行特征抽取的<包含字典的迭代器>\n",
    "X = [{'city':'北京','temperature':29},{'city':'上海','temperature':31},{'city':'深圳','temperature':30}]"
   ]
  },
  {
   "cell_type": "code",
   "execution_count": 13,
   "id": "c2484144-113d-435b-8980-b81bc981d4c9",
   "metadata": {},
   "outputs": [],
   "source": [
    "#通过实例化方法dictvec.fit_transform()对<包含字典的迭代器>X进行特征抽取\n",
    "data = dictvec.fit_transform(X)"
   ]
  },
  {
   "cell_type": "code",
   "execution_count": 14,
   "id": "bb1810d6-ab7e-41a7-bf00-6da3aa32f17f",
   "metadata": {},
   "outputs": [
    {
     "name": "stdout",
     "output_type": "stream",
     "text": [
      "  (0, 1)\t1.0\n",
      "  (0, 3)\t29.0\n",
      "  (1, 0)\t1.0\n",
      "  (1, 3)\t31.0\n",
      "  (2, 2)\t1.0\n",
      "  (2, 3)\t30.0\n"
     ]
    }
   ],
   "source": [
    "#对字典数据X进行特征抽取后的返回值为sparse矩阵\n",
    "print(data)"
   ]
  },
  {
   "cell_type": "markdown",
   "id": "9a1f6eaa-1c85-462b-845d-de7ad7c8f8aa",
   "metadata": {
    "tags": []
   },
   "source": [
    "为了更好地理解sparse矩阵，使用另一个实例化方法\n",
    "\n",
    "### <mark>实例化方法二：**dictvec.get_feature_names()**<mark>\n",
    "    \n",
    "返回对字典数据X特征抽取后的**类别名称**，也就是**特征名称**"
   ]
  },
  {
   "cell_type": "code",
   "execution_count": 16,
   "id": "4ebe5963-207b-480f-8b68-d06daacdeb0f",
   "metadata": {},
   "outputs": [
    {
     "name": "stdout",
     "output_type": "stream",
     "text": [
      "['city=上海', 'city=北京', 'city=深圳', 'temperature']\n"
     ]
    }
   ],
   "source": [
    "#通过实例化方法dictvec.get_feature_names()查看特征抽取后的特征名称\n",
    "print(dictvec.get_feature_names())"
   ]
  },
  {
   "cell_type": "code",
   "execution_count": 17,
   "id": "c327fb0c-13ce-408b-a512-75d1b029c2a5",
   "metadata": {},
   "outputs": [
    {
     "name": "stdout",
     "output_type": "stream",
     "text": [
      "[[ 0.  1.  0. 29.]\n",
      " [ 1.  0.  0. 31.]\n",
      " [ 0.  0.  1. 30.]]\n"
     ]
    }
   ],
   "source": [
    "#再将sparse矩阵转化为多维数组\n",
    "print(data.toarray())"
   ]
  },
  {
   "cell_type": "markdown",
   "id": "260ba624-bb7b-46da-95b7-cd1c5376da97",
   "metadata": {},
   "source": [
    "则可以对sparse矩阵进行解读:\n",
    "\n",
    "|'city=上海'|'city=北京'|'city=深圳'|'temperature'|\n",
    "|-----------|----------|-----------|-------------|\n",
    "|   0.      |      1.  |     0.    |     29.     |\n",
    "|   1.      |      0.  |     0.    |     31.     |\n",
    "|   0.      |      0.  |     1.    |     30.     |\n",
    "\n",
    "  (0, 1)-1.0:：第一行，第二列的数据为1.0\n",
    "  \n",
    "  (0, 3)-29.0：第一行，第四列的数据为29.0\n",
    "  \n",
    "  (1, 0)-1.0：第二行，第一列的数据为1.0\n",
    "  \n",
    "  (1, 3)-31.0：第二行，第四列的数据为31.0\n",
    "  \n",
    "  (2, 2)-1.0：第三行，第三列的数据为1.0\n",
    "  \n",
    "  (2, 3)-30.0：第三行，第四列的数据为30.0\n",
    "  \n",
    "  其他位置全为0"
   ]
  },
  {
   "cell_type": "markdown",
   "id": "70737835-7286-45db-8e38-50f81fd67c9c",
   "metadata": {},
   "source": [
    "### <mark>实例化方法三：**dictvec.inverse_transform(X)**<mark>\n",
    "    \n",
    "其中X为**array数组或者sparse矩阵**，返回值：返回**转换之前的数据格式**"
   ]
  },
  {
   "cell_type": "code",
   "execution_count": 18,
   "id": "ebd7de38-77eb-47d6-beea-abcecb35bcc8",
   "metadata": {},
   "outputs": [
    {
     "data": {
      "text/plain": [
       "[{'city=北京': 1.0, 'temperature': 29.0},\n",
       " {'city=上海': 1.0, 'temperature': 31.0},\n",
       " {'city=深圳': 1.0, 'temperature': 30.0}]"
      ]
     },
     "execution_count": 18,
     "metadata": {},
     "output_type": "execute_result"
    }
   ],
   "source": [
    "data_inverse = dictvec.inverse_transform(data)\n",
    "data_inverse"
   ]
  },
  {
   "cell_type": "markdown",
   "id": "f25f6ffe-f995-4cf0-b305-44e774050e95",
   "metadata": {},
   "source": [
    "## <mark style=background-color:pink>对文本数据特征抽取：CountVectorizer<mark>\n",
    "    \n",
    "- 类：**sklearn.feature_extraction.text.CountVectorizerr**\n",
    "- 作用：对文本数据进行特征值化，统计所有文本中所有的词，重复的只看做一次，形成词的列表，再对每个文本，在词的列表里面对每个词出现的次数，单个词不进行统计\n",
    "- 实例化语法：**countvec=CountVectorizer()**"
   ]
  },
  {
   "cell_type": "code",
   "execution_count": 19,
   "id": "4d3e187f-b7e4-45cf-b6d9-f74700705b8e",
   "metadata": {},
   "outputs": [],
   "source": [
    "#导入文本特征抽取的类\n",
    "from sklearn.feature_extraction.text import CountVectorizer"
   ]
  },
  {
   "cell_type": "markdown",
   "id": "aa7eb56a-f2c2-4b28-8ac5-75beda7ed0c0",
   "metadata": {
    "tags": []
   },
   "source": [
    "### <mark>实例化方法一：**countvec.fit_transform(X)**<mark>\n",
    "\n",
    "其中X为**文本或者包含文本字符串的可迭代对象**，返回值：返回**sparse矩阵**"
   ]
  },
  {
   "cell_type": "code",
   "execution_count": 20,
   "id": "1b0efa8a-6967-4cf8-8df6-4d4da0f795fc",
   "metadata": {},
   "outputs": [],
   "source": [
    "#实例化文本特征抽取的类\n",
    "countvec = CountVectorizer()"
   ]
  },
  {
   "cell_type": "code",
   "execution_count": 21,
   "id": "86f4b3a2-2be2-4afc-a2a6-928859d77cae",
   "metadata": {},
   "outputs": [],
   "source": [
    "#需要进行特征抽取的<包含文本字符串的迭代器>\n",
    "X = [\"life is short, i like python\",\"life is too long，i dislike python\"]"
   ]
  },
  {
   "cell_type": "code",
   "execution_count": 23,
   "id": "2940ca84-f1a1-4313-b0d7-11b9d062e13b",
   "metadata": {},
   "outputs": [],
   "source": [
    "#通过实例化方法countvec.fit_transform()对<包含文本字符串的迭代器>X进行特征抽取\n",
    "data = countvec.fit_transform(X)"
   ]
  },
  {
   "cell_type": "code",
   "execution_count": 24,
   "id": "edc7966e-8cdf-4a2e-bfd8-7e85b7113a59",
   "metadata": {},
   "outputs": [
    {
     "name": "stdout",
     "output_type": "stream",
     "text": [
      "  (0, 2)\t1\n",
      "  (0, 1)\t1\n",
      "  (0, 6)\t1\n",
      "  (0, 3)\t1\n",
      "  (0, 5)\t1\n",
      "  (1, 2)\t1\n",
      "  (1, 1)\t1\n",
      "  (1, 5)\t1\n",
      "  (1, 7)\t1\n",
      "  (1, 4)\t1\n",
      "  (1, 0)\t1\n"
     ]
    }
   ],
   "source": [
    "#对文本数据X进行特征抽取后的返回值为sparse矩阵\n",
    "print(data)"
   ]
  },
  {
   "cell_type": "markdown",
   "id": "ebffce39-fc65-4796-9dd5-089f0d40534d",
   "metadata": {
    "tags": []
   },
   "source": [
    "为了更好地理解sparse矩阵，使用另一个实例化方法\n",
    "\n",
    "### <mark>实例化方法二：**countvec.get_feature_names()**<mark>\n",
    "    \n",
    "返回对文本数据X特征抽取后的**类别名称**，也就是**特征名称**"
   ]
  },
  {
   "cell_type": "code",
   "execution_count": 25,
   "id": "57ea150b-6ce1-4a06-a711-27a1ae329a2e",
   "metadata": {},
   "outputs": [
    {
     "name": "stdout",
     "output_type": "stream",
     "text": [
      "['dislike', 'is', 'life', 'like', 'long', 'python', 'short', 'too']\n"
     ]
    }
   ],
   "source": [
    "#通过实例化方法countvec.get_feature_names()查看特征抽取后的特征名称\n",
    "print(countvec.get_feature_names())"
   ]
  },
  {
   "cell_type": "code",
   "execution_count": 26,
   "id": "9805d3e9-0a44-45e3-b738-7539c3b9dd57",
   "metadata": {},
   "outputs": [
    {
     "name": "stdout",
     "output_type": "stream",
     "text": [
      "[[0 1 1 1 0 1 1 0]\n",
      " [1 1 1 0 1 1 0 1]]\n"
     ]
    }
   ],
   "source": [
    "#再将sparse矩阵转化为多维数组\n",
    "print(data.toarray())"
   ]
  },
  {
   "cell_type": "markdown",
   "id": "fc6e0c01-3127-4cb9-bef1-b88029fa44eb",
   "metadata": {
    "tags": []
   },
   "source": [
    "则可以对sparse矩阵进行解读:\n",
    "\n",
    "|两篇文章中词的列表：|'dislike'|'is'|'life'|'like'|'long'|'python'|'short'|'too'|\n",
    "|---------|---------|----|------|------|------|--------|-------|-----|\n",
    "|第一篇文章|0|1|1|1|0|1|1|0|\n",
    "|第二篇文章|1|1|1|0|1|1|0|1|\n",
    "\n",
    "- 0：文章中没有出现这个词\n",
    "- 1：文章中这个词出现过一次\n",
    "- 注：单个字母或者单个中文词是不被统计进词的列表的\n"
   ]
  },
  {
   "cell_type": "markdown",
   "id": "48ad1d8a-a704-4e48-a70f-23dffa2a106b",
   "metadata": {},
   "source": [
    "### <mark style=background-color:orange>实例化方法二：**countvec.get_feature_names()的补充**<mark>\n",
    "    \n",
    "当文本数据由\n",
    "    \n",
    "    X = [\"life is short, i like python\",\"life is too long，i dislike python\"]\n",
    "\n",
    "变为\n",
    "    \n",
    "    X = [\"人生苦短,我爱python\",\"人生漫长,厌恶python\"]\n",
    "\n",
    "词的列表会否发生变化？"
   ]
  },
  {
   "cell_type": "code",
   "execution_count": 28,
   "id": "7f09db58-2285-4979-a07b-e3272a55bd47",
   "metadata": {},
   "outputs": [],
   "source": [
    "#需要进行特征抽取的<包含文本字符串的迭代器>\n",
    "X = [\"人生苦短,我爱python\",\"人生漫长,厌恶python\"]"
   ]
  },
  {
   "cell_type": "code",
   "execution_count": 29,
   "id": "8300bd01-61b4-4878-9fa5-c58b13ac0503",
   "metadata": {},
   "outputs": [
    {
     "name": "stdout",
     "output_type": "stream",
     "text": [
      "['人生漫长', '人生苦短', '厌恶python', '我爱python']\n"
     ]
    }
   ],
   "source": [
    "#通过实例化方法countvec.fit_transform()对<包含文本字符串的迭代器>X进行特征抽取\n",
    "data = countvec.fit_transform(X)\n",
    "#通过实例化方法countvec.get_feature_names()查看特征抽取后的特征名称\n",
    "print(countvec.get_feature_names())"
   ]
  },
  {
   "cell_type": "markdown",
   "id": "d3511565-7ce5-4946-8f81-6e040e078dd4",
   "metadata": {
    "tags": []
   },
   "source": [
    "可是这不是想要的效果，想要的效果应当是类似以下词的列表\n",
    "    \n",
    "    ['人生','漫长', '苦短', '厌恶','python']\n",
    "    \n",
    "为了解决中文词的列表的提取的问题，<包含文本字符串的迭代器>X应该形如\n",
    "\n",
    "    X=[\"人生 苦短,我爱 python\",\"人生 漫长,厌恶 python\"]\n",
    "    \n",
    "这需要借助**jieba**库"
   ]
  },
  {
   "cell_type": "code",
   "execution_count": 44,
   "id": "502a8f1a-1d4a-4ee5-b9fc-a3757e7f9034",
   "metadata": {
    "tags": []
   },
   "outputs": [
    {
     "name": "stdout",
     "output_type": "stream",
     "text": [
      "['人生 苦短 , 我 爱 python', '人生 漫长 , 厌恶 python']\n",
      "['python', '人生', '厌恶', '漫长', '苦短']\n"
     ]
    }
   ],
   "source": [
    "#导入jieba库\n",
    "import jieba\n",
    "#需要进行特征抽取的<包含文本字符串的迭代器>\n",
    "X = [\"人生苦短,我爱python\",\"人生漫长,厌恶python\"]\n",
    "#利用jieba帮助X变为形如X=[\"人生 苦短,我爱 python\",\"人生 漫长,厌恶 python\"]\n",
    "X_cut_list=[]\n",
    "for i in X:\n",
    "    X_cut_list.append(' '.join(list(jieba.cut(i))))\n",
    "#打印看X是否变化\n",
    "print(X_cut_list)\n",
    "#通过实例化方法countvec.fit_transform()对<包含文本字符串的迭代器>X进行特征抽取\n",
    "data = countvec.fit_transform(X_cut_list)\n",
    "#通过实例化方法countvec.get_feature_names()查看特征抽取后的特征名称\n",
    "print(countvec.get_feature_names())"
   ]
  },
  {
   "cell_type": "markdown",
   "id": "da03a630-087d-494e-a2e8-b2d99b79c929",
   "metadata": {
    "tags": []
   },
   "source": [
    "## <mark style=background-color:pink>对文本数据特征抽取：TfidfVectorizer<mark>\n",
    "    \n",
    "- 主要思想：如果某个人词或短语在一篇文章中出现的概率高，并且在其他文章中很少出现，则认为此词或者短语具有很好的类别区分能力，适合用来分类\n",
    "- **tf**：term frequency 词在某篇文档中出现的频率\n",
    "- **idf**：inverse document frequency 逆文档频率 **idf=log(总文档数量/该词出现的总文档数)**\n",
    "- **tf*idf**：词的重要性程度\n",
    "- 类：**sklearn.feature_extraction.text.TfidfVectorizerr**\n",
    "- 作用：用以评估一个词对于一个文件或者一个语料库中的其中一份文件的重要程度\n",
    "- 实例化语法：**TfidfVectorizer(stop_words=None)**"
   ]
  },
  {
   "cell_type": "code",
   "execution_count": 33,
   "id": "f7157510-1ef6-4759-9e2d-b4bb06a7bfe3",
   "metadata": {},
   "outputs": [],
   "source": [
    "#导入文本特征抽取的类\n",
    "from sklearn.feature_extraction.text import TfidfVectorizer"
   ]
  },
  {
   "cell_type": "markdown",
   "id": "35f8f8c3-e841-4d32-b962-91125d04dac5",
   "metadata": {},
   "source": [
    "### <mark>实例化方法一：**tfidfvec.fit_transform(X)**<mark>\n",
    "\n",
    "其中X为**文本或者包含文本字符串的可迭代对象**，返回值：返回**sparse矩阵**,返回词的**权重矩阵**"
   ]
  },
  {
   "cell_type": "code",
   "execution_count": 34,
   "id": "80830ecd-8afc-4094-bfa0-9d15f25469c2",
   "metadata": {},
   "outputs": [],
   "source": [
    "#实例化文本特征抽取的类\n",
    "tfidfvec = TfidfVectorizer()"
   ]
  },
  {
   "cell_type": "code",
   "execution_count": 35,
   "id": "f3bd6e77-ba41-44d4-9a7a-e0e6b614994f",
   "metadata": {},
   "outputs": [],
   "source": [
    "#需要进行特征抽取的<包含文本字符串的迭代器>\n",
    "X = [\"life is short, i like python\",\"life is too long，i dislike python\"]"
   ]
  },
  {
   "cell_type": "code",
   "execution_count": 36,
   "id": "99bccf58-9973-445e-bca2-dc8bba8f1a3d",
   "metadata": {},
   "outputs": [],
   "source": [
    "#通过实例化方法countvec.fit_transform()对<包含文本字符串的迭代器>X进行特征抽取\n",
    "data = tfidfvec.fit_transform(X)"
   ]
  },
  {
   "cell_type": "code",
   "execution_count": 37,
   "id": "ccd628a5-47cd-4ca7-b0a0-6fd33412c26b",
   "metadata": {},
   "outputs": [
    {
     "name": "stdout",
     "output_type": "stream",
     "text": [
      "  (0, 5)\t0.3793034928087496\n",
      "  (0, 3)\t0.5330978245262535\n",
      "  (0, 6)\t0.5330978245262535\n",
      "  (0, 1)\t0.3793034928087496\n",
      "  (0, 2)\t0.3793034928087496\n",
      "  (1, 0)\t0.47042642808546326\n",
      "  (1, 4)\t0.47042642808546326\n",
      "  (1, 7)\t0.47042642808546326\n",
      "  (1, 5)\t0.33471227807190734\n",
      "  (1, 1)\t0.33471227807190734\n",
      "  (1, 2)\t0.33471227807190734\n"
     ]
    }
   ],
   "source": [
    "#对文本数据X进行特征抽取后的返回值为sparse矩阵\n",
    "print(data)"
   ]
  },
  {
   "cell_type": "markdown",
   "id": "5b05c408-47b9-418a-868c-563bf7ebdd3b",
   "metadata": {},
   "source": [
    "为了更好地理解sparse矩阵，使用另一个实例化方法\n",
    "\n",
    "### <mark>实例化方法二：**tfidfvec.get_feature_names()**<mark>\n",
    "    \n",
    "返回对文本数据X特征抽取后的**类别名称**，也就是**特征名称**"
   ]
  },
  {
   "cell_type": "code",
   "execution_count": 40,
   "id": "243b25be-1cef-4991-8025-34898f2f1fb2",
   "metadata": {},
   "outputs": [
    {
     "name": "stdout",
     "output_type": "stream",
     "text": [
      "['dislike', 'is', 'life', 'like', 'long', 'python', 'short', 'too']\n"
     ]
    }
   ],
   "source": [
    "#通过实例化方法tfidfvec.get_feature_names()查看特征抽取后的特征名称\n",
    "print(tfidfvec.get_feature_names())"
   ]
  },
  {
   "cell_type": "code",
   "execution_count": 41,
   "id": "57b0a7e1-a681-4e73-aa20-6ab5e316f078",
   "metadata": {},
   "outputs": [
    {
     "name": "stdout",
     "output_type": "stream",
     "text": [
      "[[0.         0.37930349 0.37930349 0.53309782 0.         0.37930349\n",
      "  0.53309782 0.        ]\n",
      " [0.47042643 0.33471228 0.33471228 0.         0.47042643 0.33471228\n",
      "  0.         0.47042643]]\n"
     ]
    }
   ],
   "source": [
    "#再将sparse矩阵转化为多维数组\n",
    "print(data.toarray())"
   ]
  },
  {
   "cell_type": "markdown",
   "id": "c0cbc7ec-1a03-44f8-b552-e2e7dc5f8417",
   "metadata": {
    "tags": []
   },
   "source": [
    "则可以对sparse矩阵进行解读:\n",
    "\n",
    "|两篇文章中词的列表：|'dislike'|'is'|'life'|'like'|'long'|'python'|'short'|'too'|\n",
    "|---------|---------|----|------|------|------|--------|-------|-----|\n",
    "|第一篇文章|0.|0.37930349|0.37930349|0.53309782|0.|0.37930349|0.53309782|0.|\n",
    "|第二篇文章|0.47042643|0.33471228|0.33471228|0.|0.47042643|0.33471228|0.|0.47042643|\n",
    "\n",
    "返回词的**权重矩阵**"
   ]
  },
  {
   "cell_type": "code",
   "execution_count": null,
   "id": "36ffe290-9006-41b4-9009-cb2817bd507f",
   "metadata": {},
   "outputs": [],
   "source": []
  }
 ],
 "metadata": {
  "kernelspec": {
   "display_name": "Python 3 (ipykernel)",
   "language": "python",
   "name": "python3"
  },
  "language_info": {
   "codemirror_mode": {
    "name": "ipython",
    "version": 3
   },
   "file_extension": ".py",
   "mimetype": "text/x-python",
   "name": "python",
   "nbconvert_exporter": "python",
   "pygments_lexer": "ipython3",
   "version": "3.9.7"
  }
 },
 "nbformat": 4,
 "nbformat_minor": 5
}
