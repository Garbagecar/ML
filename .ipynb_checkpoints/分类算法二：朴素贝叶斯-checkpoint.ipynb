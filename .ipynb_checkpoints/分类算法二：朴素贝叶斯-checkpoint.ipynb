{
 "cells": [
  {
   "cell_type": "markdown",
   "id": "5c910d05-9dbb-4a9e-a32c-b29844206b46",
   "metadata": {
    "tags": []
   },
   "source": [
    "# 分类算法二：朴素贝叶斯\n",
    "\n",
    "- 主要用途：文本分类\n",
    "- 例：垃圾邮件分类"
   ]
  },
  {
   "cell_type": "markdown",
   "id": "dacde259-7190-415f-8c88-7df98ec26450",
   "metadata": {
    "tags": [],
    "toc-hr-collapsed": true
   },
   "source": [
    "## <mark style=background-color:pink>一、朴素贝叶斯的概率基础<mark>"
   ]
  },
  {
   "cell_type": "markdown",
   "id": "aae5a9a7-a1fe-44af-9ed1-1e70d0a200e9",
   "metadata": {},
   "source": [
    "### <mark>**引例一**<mark>\n",
    "\n",
    "|样本数|职业|体型|女神是否喜欢|\n",
    "|------|---|---|------------|\n",
    "|1|程序员|超重|不喜欢|\n",
    "|2|产品|匀称|喜欢|\n",
    "|3|程序员|匀称|喜欢|\n",
    "|4|程序员|超重|喜欢|\n",
    "|5|美工|匀称|不喜欢|\n",
    "|6|美工|超重|不喜欢|\n",
    "|7|产品|匀称|喜欢|\n",
    "\n",
    "**问题**：\n",
    "\n",
    "1.女神喜欢的概率？ \n",
    "- $\\frac{4}{7}$\n",
    "\n",
    "2.职业是程序员并且体型匀称的概率？\n",
    "- 错误答案：$\\frac{1}{7}$\n",
    "- 正确答案：假设职业和体型两个特征毫无关系，则$\\frac{3}{7}*\\frac{4}{7}=\\frac{12}{49}$\n",
    "- 事件A=职业是程序员\n",
    "- 事件B=体型是匀称\n",
    "- 当职业和体型**相互独立**时：$P(AB)=P(A)*P(B)$\n",
    "\n",
    "3.在女神喜欢的条件下，职业是程序员的概率？\n",
    "- 事件A=女神喜欢\n",
    "- 事件B=职业是程序员\n",
    "- $P(B|A)=\\frac{P(AB)}{P(A)}=\\frac{2/7}{4/7}=\\frac{1}{2}$\n",
    "\n",
    "4.在女神喜欢的条件下，职业是产品，体型是超重的概率？\n",
    "- 事件A=女神喜欢\n",
    "- 事件B=职业是产品\n",
    "- 事件C=体型是超重\n",
    "- 当职业和体型**相互独立**时：$P(BC|A)=P(B|A)P(C|A)=\\frac{2/7}{4/7}*\\frac{1/7}{4/7}=\\frac{1}{8}$\n",
    "\n",
    "在上述引例中，涉及到**条件概率**以及**联合概率**"
   ]
  },
  {
   "cell_type": "markdown",
   "id": "7bde4c40-34b7-4384-99f8-cb3d1ba30b0c",
   "metadata": {},
   "source": [
    "### <mark>什么是条件概率<mark>\n",
    "\n",
    "- 在另外一个事件B已经发生的条件下，事件A发生的概率\n",
    "- 记作：$P(A|B)$\n",
    "- 一般来说：$P(A|B)=\\frac{P(AB)}{P(B)}$\n",
    "- 当事件A和事件B是**相互独立**的，也就是**事件B的发生不影响事件A发生的概率**时：$P(A|B)=P(A)$\n",
    "- 特性：当A、B相互独立时，$P(AB|C)=P(A|C)P(B|C)$"
   ]
  },
  {
   "cell_type": "markdown",
   "id": "420021d3-fd4d-455d-8638-070fceb2309b",
   "metadata": {
    "tags": []
   },
   "source": [
    "### <mark>什么是联合概率<mark>\n",
    "\n",
    "- 联合概率：包含多个条件，且所有条件同时成立的概率\n",
    "- 记作：$P(AB...)=P(A∩B...)$\n",
    "- 一般来说：$P(AB)=P(A|B)P(B)=P(B|A)P(A)$\n",
    "- 但是当条件A和B相互独立时：$P(AB)=P(A|B)P(B)=P(A)P(B)$"
   ]
  },
  {
   "cell_type": "markdown",
   "id": "b0d7ebe4-ae43-47f3-ab2c-b3e1ad76f83c",
   "metadata": {
    "tags": []
   },
   "source": [
    "### <mark>引例二<mark>\n",
    "\n",
    "朴素贝叶斯算法最常用的使用场景就是文档分类：给定一个已知文档，对这个文档进行分类，是科技类，还是金融类？\n",
    "- 事件A=给定已知文档\n",
    "- 事件B=科技类文档\n",
    "- 事件C=金融类文档\n",
    "\n",
    "则问题转换为条件概率比大小的问题：\n",
    "- $P(B|A)<P(C|A)$：该文档是金融类文档\n",
    "- $P(B|A)>P(C|A)$：该文档是科技类文档\n",
    "- $P(B|A)=P(C|A)$：该文档无法进行分类\n",
    "\n",
    "而由**特征工程**中的**文本特征提取**可知给定文档相当于\n",
    "- 文档：词1，词2，词3....\n",
    "\n",
    "那问题又为：\n",
    "- P(科技|词1，词2，词3....)\n",
    "- P(金融|词1，词2，词3....)\n",
    "\n",
    "此时要求解问题则需要用到贝叶斯公式"
   ]
  },
  {
   "cell_type": "markdown",
   "id": "1c8d5add-e850-4677-925f-1e582b9f9c4d",
   "metadata": {},
   "source": [
    "### <mark>什么是全概率公式<mark>\n",
    "    \n",
    "设Ω是试验E的样本空间，B为E中的事件，$A_1,A_2,A_3...A_n$为Ω的一个划分，且$P(A_i)>0(i=1,2,...,n)$，则\n",
    "    \n",
    "- $P(B)=\\sum_1^n P(A_i)P(B|A_i)$"
   ]
  },
  {
   "cell_type": "markdown",
   "id": "3c3ecd96-5c21-4231-96b1-9d30a850bfb8",
   "metadata": {
    "jp-MarkdownHeadingCollapsed": true,
    "tags": []
   },
   "source": [
    "### <mark>什么是贝叶斯公式<mark>\n",
    "    \n",
    "设Ω是试验E的样本空间，B为E中的事件，$A_1,A_2,A_3...A_n$为Ω的一个划分，且$P(A_i)>0(i=1,2,...,n)$,$P(B)>0$，则\n",
    "    \n",
    "- $P(A_i|B)=\\frac{P(B|A_i)P(A_i)}{\\sum_1^n P(A_j)P(B|A_j)}$"
   ]
  },
  {
   "cell_type": "markdown",
   "id": "027004cf-bc47-45f7-a270-3730791a207e",
   "metadata": {
    "jp-MarkdownHeadingCollapsed": true,
    "tags": []
   },
   "source": [
    "### <mark>如何用贝叶斯公式来解决引例二的问题<mark>\n",
    "\n",
    "根据引例二来理解\n",
    "- C：文章类别\n",
    "- W：文档\n",
    "- $F_1,F_2,F_3,...$：由特征工程对文档进行处理后得到的可以代表文档的**词的列表(特征)**\n",
    "\n",
    "则上述问题抽象为：\n",
    "\n",
    "- ①求得是条件概率：$P(C|W)$\n",
    "\n",
    "- ②由条件概率公式：$P(C|W)=\\frac{P(CW)}{P(W)}$\n",
    "\n",
    "- ③又由条件概率公式变形：$P(C|W)=\\frac{P(W|C)P(C)}{P(W)}$\n",
    "\n",
    "- ④根据特征工程对文档处理，③转换为：$P(C|F_1,F_2,F_3,...)=\\frac{P(F_1,F_2,F_3,...|C)P(C)}{P(F_1,F_2,F_3,...)}$\n",
    "\n",
    "- ⑤$P(C)$相当于每个文档类别的概率：P(C)=某文档类别数/总文档类别数}\n",
    "\n",
    "- ⑥$P(F_1,F_2,F_3,...|C)$在特征(被预测文档中出现的词)相互独立时有：$P(F_1,F_2,F_3,...|C)=P(F_1|C)P(F_2|C)P(F_3|C)....$\n",
    "\n",
    "- ⑦$P(F_i|C)$：$P(F_i|C)=N_i/N$,$N_i$为词$F_i$在C类别所有文档中出现的次数，N为C类别文档中所有词出现的次数和\n",
    "\n",
    "- ⑧$P(F_1,F_2,F_3,...)$：预测文档中每个词的概率"
   ]
  },
  {
   "cell_type": "markdown",
   "id": "68919509-6a81-4d8d-88f1-82cf2e4e1033",
   "metadata": {},
   "source": [
    "### <mark>引例三<mark>\n",
    "\n",
    "在对**文档的训练集**进行**特征工程**抽取特征时(如**Tfidf**)，相当于形成所有文档中不重复出现的词的列表，并且每篇文章都有每个词的重要程度\n",
    "\n",
    "|训练集中文档\\词表的列表|词1|词2|词3|词4|词..|\n",
    "|---------------------|---|--|---|---|----|\n",
    "|文档1|0.123|0.   |0.339|0.  |....|\n",
    "|文档2|0.   |0.457|0.   |0.  |....|\n",
    "|文档..|...|...|...|...|....|\n",
    "\n",
    "那么对每个文档取几个最重要的词重新合并作为词的列表，则比原来的词的列表少\n",
    "\n",
    "由**训练集**有以下统计结果(指定统计**词频**)：\n",
    "\n",
    "|特征\\统计|科技(30)篇|娱乐(60)篇|汇总(90)篇|\n",
    "|-------|----------|---------|----------|\n",
    "|\"商场\"|9|51|60|\n",
    "|\"影院\"|8|56|64|\n",
    "|\"支付宝\"|20|15|35|\n",
    "|\"云计算\"|63|0|63|\n",
    "|汇总(求和)|100|121|221|\n",
    "\n",
    "\n",
    "现有一篇被预测文档：出现了\"影院\"、\"支付宝\"、\"云计算\"(特征)，计算属于科技、娱乐的类别概率\n",
    "\n",
    "**求解**：\n",
    "\n",
    "- ①相当于：求P(科技|\"影院\",\"支付宝\",\"云计算\")和P(娱乐|\"影院\",\"支付宝\",\"云计算\")，并比较大小\n",
    "\n",
    "- ②转换为：求P(\"影院\",\"支付宝\",\"云计算\"|科技)P(科技)/P(\"影院\",\"支付宝\",\"云计算\")和P(\"影院\",\"支付宝\",\"云计算\"|娱乐)P(娱乐)/P(\"影院\",\"支付宝\",\"云计算\")\n",
    "\n",
    "- ③转换为：求P(\"影院\",\"支付宝\",\"云计算\"|科技)P(科技)和P(\"影院\",\"支付宝\",\"云计算\"|娱乐)P(娱乐)，并比较大小\n",
    "\n",
    "- ④P(\"影院\",\"支付宝\",\"云计算\"|科技)P(科技)=P(\"影院\"|科技)P(\"支付宝\"|科技)P(\"云计算\"|科技)P(科技)=(8/100)(20/100)(63/100)(30/90)\n",
    "\n",
    "- ⑤P(\"影院\",\"支付宝\",\"云计算\"|娱乐)P(娱乐)=P(\"影院\"|娱乐)P(\"支付宝\"|娱乐)P(\"云计算\"|娱乐)P(娱乐)=(56/121)(15/121)(**0/121**)(60/90)=**0**\n",
    "    \n",
    "- 由上述过程可将该预测文档归为科技类\n"
   ]
  },
  {
   "cell_type": "markdown",
   "id": "899e46ee-9071-4766-8490-7e59b21d535d",
   "metadata": {},
   "source": [
    "### <mark>拉普拉斯平滑<mark>\n",
    "\n",
    "为什么需要拉普拉斯平滑：\n",
    "    \n",
    "- 在引例三的求解⑤中计算得到预测文档为娱乐类的概率应该为0\n",
    "    \n",
    "- 但是预测文档中出现的\"影院\"、\"支付宝\"在娱乐类文档中也有出现，故概率为0是不太合理的\n",
    "    \n",
    "- 为了避免出现这类问题，需要在求解过程中加入拉普拉斯系数\n",
    "    \n",
    "拉普拉斯平滑：\n",
    "    \n",
    "- $P(F_i|C)=\\frac{N_i+α}{N+αm}$\n",
    "\n",
    "- 其中α为拉普拉斯系数，一般默认拉普拉斯系数为1\n",
    "- m为训练集中同级出的词的特征数，在引例三中m=4"
   ]
  },
  {
   "cell_type": "markdown",
   "id": "c98a5ade-3aa2-486e-9360-ed7f3fc84609",
   "metadata": {},
   "source": [
    "## <mark style=background-color:pink>二、sklearn中的朴素贝叶斯算法<mark>\n",
    "    \n",
    "- **特征之间相互独立**\n",
    "- **sklearn.naive_bayes.MultinomialNB(alpha=1.0)**:alpha是拉普拉斯平滑系数，这个参数并不算做超参数，对分类结果不会有影响"
   ]
  },
  {
   "cell_type": "markdown",
   "id": "f39185c3-3150-4343-b9c5-2338db2b1620",
   "metadata": {},
   "source": [
    "## <mark style=background-color:pink>三、朴素贝叶斯算法案例：新闻分类<mark>\n",
    "    \n",
    "- sklearn20类新闻分类\n",
    "- 20个新闻组数据包含20个主题的18000个新闻组帖子"
   ]
  },
  {
   "cell_type": "markdown",
   "id": "b9a59615-e27a-4474-9e7e-2af1d845fce1",
   "metadata": {
    "tags": []
   },
   "source": [
    "#### 1.加载20类新闻数据，将数据划分为训练集和测试集"
   ]
  },
  {
   "cell_type": "code",
   "execution_count": 2,
   "id": "93dc6f52-8d8a-40fa-9e50-70f8ef858d33",
   "metadata": {
    "tags": []
   },
   "outputs": [],
   "source": [
    "#导入新闻数据集的类\n",
    "from sklearn.datasets import fetch_20newsgroups\n",
    "\n",
    "#实例化新闻数据集的类\n",
    "newsgroups = fetch_20newsgroups(data_home=r'E:\\jupyterlab\\ML',subset='all')\n"
   ]
  },
  {
   "cell_type": "code",
   "execution_count": 4,
   "id": "c1e843ce-ff2d-48c1-ad51-00eda651ef2c",
   "metadata": {},
   "outputs": [],
   "source": [
    "#导入数据划分的类\n",
    "from sklearn.model_selection import train_test_split\n",
    "\n",
    "#进行训练集和测试集的划分\n",
    "X_train,X_test,Y_train,Y_test = train_test_split(newsgroups.data,newsgroups.target,test_size=0.25,random_state=2021)"
   ]
  },
  {
   "cell_type": "markdown",
   "id": "c570f3b7-7e48-47e6-9203-507ecdcc0ec8",
   "metadata": {
    "tags": []
   },
   "source": [
    "#### 2.生成文章特征词"
   ]
  },
  {
   "cell_type": "code",
   "execution_count": 6,
   "id": "f17def30-2f88-4635-9f09-c7cdf7ed08c8",
   "metadata": {},
   "outputs": [],
   "source": [
    "#导入对文本类数据进行特征抽取的类\n",
    "from sklearn.feature_extraction.text import TfidfVectorizer\n",
    "\n",
    "#实例化文本特征抽取的类\n",
    "tf = TfidfVectorizer()\n",
    "\n",
    "#对训练集中的文本数据集进行特征抽取形成词的列表\n",
    "X_train = tf.fit_transform(X_train)\n",
    "\n",
    "#以训练集当中的词的列表,进行测试集中每篇文章重要性统计※※※\n",
    "X_test = tf.transform(X_test)"
   ]
  },
  {
   "cell_type": "markdown",
   "id": "3cfc5074-12a9-481f-9ffe-87d060c04aaf",
   "metadata": {},
   "source": [
    "#### 3.朴素贝叶斯estimator流程进行预估"
   ]
  },
  {
   "cell_type": "code",
   "execution_count": 8,
   "id": "d7d7d2d0-995a-4eab-b715-9dd20262115a",
   "metadata": {},
   "outputs": [
    {
     "name": "stdout",
     "output_type": "stream",
     "text": [
      "[11  5  2 ... 13 10 17]\n",
      "准确率为： 0.8448641765704584\n"
     ]
    }
   ],
   "source": [
    "#导入朴素贝叶斯算法的类\n",
    "from sklearn.naive_bayes import MultinomialNB\n",
    "\n",
    "#实例化贝叶斯算法估计器\n",
    "mlt = MultinomialNB(alpha=1.0)\n",
    "\n",
    "#用训练集的数据(特征值+标签)去训练朴素贝叶斯算法的模型\n",
    "mlt.fit(X_train,Y_train)\n",
    "\n",
    "#将测试集的数据(特征值)带入训练好的模型，进行预测\n",
    "Y_test_predict = mlt.predict(X_test)\n",
    "print(Y_test_predict)\n",
    "\n",
    "#对所得的朴素贝叶斯算法模型进行评估\n",
    "print('准确率为：',mlt.score(X_test,Y_test))"
   ]
  },
  {
   "cell_type": "markdown",
   "id": "8d10a6cd-24d6-4b66-8167-1974607376bc",
   "metadata": {
    "tags": []
   },
   "source": [
    "#### 4.朴素贝叶斯算法优缺点\n",
    "\n",
    "**优点**：\n",
    "- 朴素贝叶斯模型发源于古典数学理论，有稳定的分类效率\n",
    "- 对缺失数据不太敏感，算法也比较简单，常用于文本分类\n",
    "- 分类准确度高，速度快\n",
    "\n",
    "**缺点**：\n",
    "- 由于使用了样本属性独立性的假设，所以如果样本属性有关联时，其效果不好"
   ]
  }
 ],
 "metadata": {
  "kernelspec": {
   "display_name": "Python 3 (ipykernel)",
   "language": "python",
   "name": "python3"
  },
  "language_info": {
   "codemirror_mode": {
    "name": "ipython",
    "version": 3
   },
   "file_extension": ".py",
   "mimetype": "text/x-python",
   "name": "python",
   "nbconvert_exporter": "python",
   "pygments_lexer": "ipython3",
   "version": "3.9.7"
  }
 },
 "nbformat": 4,
 "nbformat_minor": 5
}
