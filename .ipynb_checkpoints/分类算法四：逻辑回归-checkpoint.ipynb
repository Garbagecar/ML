{
 "cells": [
  {
   "cell_type": "markdown",
   "id": "5dd9740e-74fd-44a8-a2c7-ce99d2e8fbbc",
   "metadata": {
    "tags": []
   },
   "source": [
    "# 分类算法四：逻辑回归\n",
    "- 适用于解决二分类问题\n",
    "- 应用场景：广告点击率(点击、没点击)、是否为垃圾邮件、是否患病、金融诈骗、虚假账号.."
   ]
  },
  {
   "cell_type": "markdown",
   "id": "fa8ddbc0-904e-4a89-aabf-d58259a99614",
   "metadata": {
    "tags": []
   },
   "source": [
    "## <mark style=background-color:pink>一、sigmoid函数与逻辑回归公式<mark>\n",
    "- 逻辑回归输入：$Z(W) = w_{0} + w_{1}x_{1} + w_{2}x_{3} + ... =W^{T}X$\n",
    "- 逻辑回归的输入→sigmoid函数→分类输出\n",
    "    \n",
    "sigmoid函数：\n",
    "- 公式：$g(x) = \\frac{1}{1+e^{-x}}$\n",
    "\n",
    "sigmoid函数的特点：\n",
    "- 过点：(0,0.5)，默认0.5为阀值\n",
    "- 值域：[0,1]\n",
    "    \n",
    "逻辑回归公式：\n",
    "- 公式：$h_{\\theta}(X) = g(\\theta^{T}X)$\n"
   ]
  },
  {
   "cell_type": "markdown",
   "id": "95734e33-0b9c-4794-a495-c75c8ae82e26",
   "metadata": {},
   "source": [
    "## <mark style=background-color:pink>二、逻辑回归的损失函数、优化<mark>\n",
    "- 与线性回归原理相同，但由于是分类问题，损失函数不一样，只能通过梯度下降求解\n",
    "    \n",
    "对数似然损失函数：$cost(h_{\\theta}(x),y)$\n",
    "- 如果y=1：$-log(h_{\\theta}(x))$\n",
    "- 如果y=0：$-log(1-h_{\\theta}(x))$\n",
    "\n",
    "完整的损失函数：\n",
    "- $cost(h_{\\theta}(x),y) = \\sum_{i=1}^{m}-y_{i}log(h_{\\theta}(x))-(1-y_{i})log(1-h_{\\theta}(x))$\n",
    "    \n",
    "cost损失的值约小，那么预测的类别准确度更高\n",
    "    \n",
    "    \n",
    "**例**：\n",
    "\n",
    "|样本特征值|样本属于的类别|逻辑回归预测样本属于1类的概率|逻辑回归越策的类别(概率阈值：0.5)|\n",
    "|---------|-------------|----------------------------|--------|\n",
    "|样本1的特征值|1|0.6|1|\n",
    "|样本2的特征值|0|0.1|0|\n",
    "|样本3的特征值|0|0.51|1|\n",
    "|样本4的特征值|1|0.7|1|\n",
    "\n",
    "则该例中的损失为：1\\*log(0.6)+0\\*log(0.1)+0\\*log(0.51)+1\\*log(0.7)\n",
    "    \n",
    "**损失函数**：\n",
    "- 线性回归：均方误差(不存在多个局部最低点)，只有一个最小值\n",
    "- 逻辑回归：对数似然损失：多个局部最小值\n",
    "\n",
    "**梯度下降求解优化**：\n",
    "- 多次随机初始化，多次比较最小值结果\n",
    "- 求解过程当中，调整学习率"
   ]
  },
  {
   "cell_type": "markdown",
   "id": "91650575-5d7c-4be8-b885-fdf347ff7f57",
   "metadata": {},
   "source": [
    "## <mark style=background-color:pink>三、sklearn中的逻辑回归<mark>\n",
    "- 类：**sklearn.linear_model.LogisticRegression**\n",
    "- 实例化语法：**sklearn.linear_model.LogisticRegression(penalty='l2',C=1.0)**\n",
    "- penalty：正则化\n",
    "- C：正则化力度\n",
    "- estimator.coef_：回归系数\n",
    "- 哪一个类别数量少，判定的概率就是指这个类别的\n"
   ]
  },
  {
   "cell_type": "markdown",
   "id": "ecc1ca79-8043-430c-9b5c-6278949096f2",
   "metadata": {},
   "source": [
    "## <mark style=background-color:pink>四、逻辑回归案例<mark>\n",
    "- 良/恶性乳腺癌肿瘤预测\n",
    "- 原始数据下载地址：https://archive.ics.uci.edu/ml/machine-learning-databases/\n",
    "\n",
    "数据描述：\n",
    "- 699条样本，共11列数据，第一列用于检索的id，后9列分别是与肿瘤相关的医学特征，最后一列表示出肿瘤类型的数值\n",
    "- 包含了16个缺失值，用'?'标出\n",
    "- 良性：458，占 65.5%\n",
    "- 恶性：241，占 34.5%\n",
    "    \n",
    "|1|2|3|4|5|6|7|8|9|10|11|\n",
    "|--|--|--|--|--|--|--|--|--|--|--|\n",
    "|示例代号编码|块厚度1-10|细胞大小的一致性1-10|电池形状的均匀性1-10|边缘附着力1-10|单个上皮细胞大小1-10|裸核1-10|平淡的染色质1-10|正常核仁1-10|有丝分裂1-10|分类(2:良性,4:恶性)|"
   ]
  },
  {
   "cell_type": "code",
   "execution_count": null,
   "id": "f7f9bb67-06d8-470e-8dda-ab75e161aec0",
   "metadata": {},
   "outputs": [],
   "source": []
  }
 ],
 "metadata": {
  "kernelspec": {
   "display_name": "Python 3 (ipykernel)",
   "language": "python",
   "name": "python3"
  },
  "language_info": {
   "codemirror_mode": {
    "name": "ipython",
    "version": 3
   },
   "file_extension": ".py",
   "mimetype": "text/x-python",
   "name": "python",
   "nbconvert_exporter": "python",
   "pygments_lexer": "ipython3",
   "version": "3.9.7"
  }
 },
 "nbformat": 4,
 "nbformat_minor": 5
}
