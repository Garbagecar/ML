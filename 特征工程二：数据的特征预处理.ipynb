{
 "cells": [
  {
   "cell_type": "markdown",
   "id": "f9c320c7-9fed-4b83-9576-1a08a45cb9cf",
   "metadata": {
    "tags": []
   },
   "source": [
    "# 特征工程二：数据的特征预处理"
   ]
  },
  {
   "cell_type": "markdown",
   "id": "6ab7ce3e-d074-4fd6-91b4-bd53936b42e1",
   "metadata": {},
   "source": [
    "## <mark style=background-color:pink>sklearn中数据的特征预处理的API<mark>\n",
    "    \n",
    "- **sklearn.preprocessing**"
   ]
  },
  {
   "cell_type": "markdown",
   "id": "85289b9a-5691-40ee-ba6f-8882bbd224be",
   "metadata": {
    "tags": []
   },
   "source": [
    "## <mark style=background-color:pink>归一化<mark>\n",
    "\n",
    "- 类：**sklearn.feature_extraction.MinMaxScaler**\n",
    "- 目的：使得某一个特征对最终结果不会造成过大的影响\n",
    "- 公式：**x-min/(max-min)** 这里的最大值最小值是针对每一个特征的，也就是每一列\n",
    "- 实例化语法：**minmax=MinMaxScaler(feature_range=(0,1),...)** 每个特征缩放到给定范围(默认[0,1])"
   ]
  },
  {
   "cell_type": "code",
   "execution_count": 7,
   "id": "360fbd7b-ba38-47ba-a12e-6b1c49b69629",
   "metadata": {
    "tags": []
   },
   "outputs": [],
   "source": [
    "#导入归一化的类\n",
    "from sklearn.preprocessing import MinMaxScaler"
   ]
  },
  {
   "cell_type": "markdown",
   "id": "979666e8-999f-40f2-8e40-63bf9397b357",
   "metadata": {},
   "source": [
    "### <mark>实例化方法一：**minmax.fit_transform(X)**<mark>\n",
    "\n",
    "其中X为**numpy array格式的数据(n_samples,n_features)**，返回值：返回**转换后的每列分布范围相同的array**"
   ]
  },
  {
   "cell_type": "code",
   "execution_count": 8,
   "id": "4e727d74-3f2f-4d2e-874f-daab85e25357",
   "metadata": {},
   "outputs": [],
   "source": [
    "#实例化归一化的类\n",
    "minmax = MinMaxScaler(feature_range=(0,1))"
   ]
  },
  {
   "cell_type": "code",
   "execution_count": 10,
   "id": "7ca71b2d-6f09-47f4-9a5f-ea20036e180b",
   "metadata": {},
   "outputs": [],
   "source": [
    "#需要进行归一化处理的数据X\n",
    "X = [[90,2,10,40],[60,4,15,45],[75,3,13,46]]"
   ]
  },
  {
   "cell_type": "code",
   "execution_count": 12,
   "id": "7045f9a1-87f8-4b0b-bf4f-2a1020fc34d6",
   "metadata": {
    "tags": []
   },
   "outputs": [],
   "source": [
    "#通过实例化方法minmax.fit_transform()对X的每一列数据(每一特征对应的特征值)进行归一化处理\n",
    "data = minmax.fit_transform(X)"
   ]
  },
  {
   "cell_type": "code",
   "execution_count": 13,
   "id": "f15275f9-3f2f-4465-8efb-827d4c3adcd6",
   "metadata": {},
   "outputs": [
    {
     "name": "stdout",
     "output_type": "stream",
     "text": [
      "[[1.         0.         0.         0.        ]\n",
      " [0.         1.         1.         0.83333333]\n",
      " [0.5        0.5        0.6        1.        ]]\n"
     ]
    }
   ],
   "source": [
    "#打印data看看归一化后的数据\n",
    "print(data)"
   ]
  },
  {
   "cell_type": "markdown",
   "id": "244fda4a-cd01-4745-b5a3-4b376497be7a",
   "metadata": {},
   "source": [
    "## <mark style=background-color:pink>标准化<mark>\n",
    "    \n",
    "- 类：**sklearn.feature_extraction.StandardScaler**\n",
    "- 目的：通过对原始数据进行变换把数据变换到均值为0，方差为1的范围内\n",
    "- 公式：**x-平均值/标准差** 这里的平均值和标准差是针对每一个特征的，也就是每一列\n",
    "- 实例化语法：**standard=StandardScaler()** 处理之后每列来说均值为0，方差为1"
   ]
  },
  {
   "cell_type": "code",
   "execution_count": 14,
   "id": "dfbd520a-2361-49ba-85dc-772a22129308",
   "metadata": {},
   "outputs": [],
   "source": [
    "#导入标准化的类\n",
    "from sklearn.preprocessing import StandardScaler"
   ]
  },
  {
   "cell_type": "markdown",
   "id": "6900fbe5-a702-40d0-87d8-f5c1807bfca9",
   "metadata": {},
   "source": [
    "### <mark>实例化方法一：**standard.fit_transform(X)**<mark>\n",
    "\n",
    "其中X为**numpy array格式的数据(n_samples,n_features)**，返回值：返回**转换后的每列均值为0，方差为1的array**"
   ]
  },
  {
   "cell_type": "code",
   "execution_count": 15,
   "id": "14501843-648e-49ea-826a-50ac2aa588e2",
   "metadata": {},
   "outputs": [],
   "source": [
    "#实例化标准化的类\n",
    "standard = StandardScaler()"
   ]
  },
  {
   "cell_type": "code",
   "execution_count": 17,
   "id": "378d674a-15c2-4f6b-9ae7-29ddcf7b6bb9",
   "metadata": {
    "tags": []
   },
   "outputs": [],
   "source": [
    "#需要进行标准化处理的数据X\n",
    "X = [[90,2,10,40],[60,4,15,45],[75,3,13,46]]"
   ]
  },
  {
   "cell_type": "code",
   "execution_count": 18,
   "id": "01bb036c-5c5d-41eb-bc29-4916a47c132d",
   "metadata": {},
   "outputs": [],
   "source": [
    "#通过实例化方法standard.fit_transform()对X的每一列数据(每一特征对应的特征值)进行归一化处理\n",
    "data = standard.fit_transform(X)"
   ]
  },
  {
   "cell_type": "code",
   "execution_count": 19,
   "id": "6a48855a-cebe-4a16-b923-e99442aa22d3",
   "metadata": {},
   "outputs": [
    {
     "name": "stdout",
     "output_type": "stream",
     "text": [
      "[[ 1.22474487 -1.22474487 -1.29777137 -1.3970014 ]\n",
      " [-1.22474487  1.22474487  1.13554995  0.50800051]\n",
      " [ 0.          0.          0.16222142  0.88900089]]\n"
     ]
    }
   ],
   "source": [
    "#打印data看看标准化后的数据\n",
    "print(data)"
   ]
  },
  {
   "cell_type": "markdown",
   "id": "339dbcab-0d50-4a54-b233-cf549791992c",
   "metadata": {
    "tags": []
   },
   "source": [
    "## <mark style=background-color:pink>归一化&标准化有关异常值的对比<mark>\n",
    "\n",
    "归一化总结：\n",
    "- 注意在特定场景下最大值和最小值是变化的\n",
    "- 最大值与最小值非常容易受异常点影响，所以这种方法鲁棒性比较差（稳定性差）\n",
    "- 只适合传统精确小数据场景\n",
    "\n",
    "标准化化总结：    \n",
    "- 在已有样本足够多的情况下比较稳定\n",
    "- 适合现代嘈杂大数据场景\n",
    "    \n",
    "归一化和标准化有关异常值的对比：\n",
    "- 归一化：如果出现异常点，影响了最大值和最小值，那么结果显然会发生改变\n",
    "- 标准化：如果出现异常点，由于具有一定数据量，少量的异常点对于平均值的影响并不大，从而方差改变较小"
   ]
  }
 ],
 "metadata": {
  "kernelspec": {
   "display_name": "Python 3 (ipykernel)",
   "language": "python",
   "name": "python3"
  },
  "language_info": {
   "codemirror_mode": {
    "name": "ipython",
    "version": 3
   },
   "file_extension": ".py",
   "mimetype": "text/x-python",
   "name": "python",
   "nbconvert_exporter": "python",
   "pygments_lexer": "ipython3",
   "version": "3.9.7"
  }
 },
 "nbformat": 4,
 "nbformat_minor": 5
}
