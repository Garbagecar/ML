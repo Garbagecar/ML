{
 "cells": [
  {
   "cell_type": "markdown",
   "id": "257ca2a9-7064-48eb-9c4a-8b34b85a77d2",
   "metadata": {},
   "source": [
    "# 聚类算法：k-means算法\n",
    "- 非监督学习：只有特征值，没有目标值\n",
    "- k：把数据划分成多少个类别，根据具体情况来定，你可能知道具体个数，如若实在不知道，相当于一个超参数\n",
    "\n",
    "以最终分为3个类别为例：如k = 3\n",
    "- ①随机在数据当中抽取三个样本，当做三个类别的中心点\n",
    "- ②剩余的点分别计算到三个中心点的距离(欧氏距离)，也就是每一个样本有三个距离\n",
    "- ③每个样本从中选出距离自己最近的中心点，作为自己的标记\n",
    "- ④则数据形成了三个族群\n",
    "- ⑤分别计算这三个族群的平均值，得到三个族群的平均点(特征1的平均值，特征2的平均值，...)\n",
    "- ⑥这三个平均点与之前的中心点进行比较\n",
    "- ⑦如果相同：结束聚类\n",
    "- ⑧如果不同；三个平均点当做新的中心点，重复之前的步骤"
   ]
  },
  {
   "cell_type": "markdown",
   "id": "9163c59b-feec-4d6e-b94f-959e82413703",
   "metadata": {},
   "source": [
    "## <mark style=background-color:pink>一、sklearn中的kmeans<mark>\n",
    "- 类：**sklearn.cluster.KMeans**\n",
    "- 实例化语法：**sklearn.cluster.KMeans(n_clusters=,init='k-means++')**\n",
    "- n_clusters：开始的聚类中心数量\n",
    "- init：初始化方法，默认为'k-means++'\n",
    "- estimator.labels_：默认标记的类型，可以和真实值比较(不是值比较)\n",
    "    \n",
    "具体应用：\n",
    "- from sklearn.cluster import KMeans\n",
    "- km = KMeans(n_clusters=4)\n",
    "- km.fit(X)\n",
    "- X_predict = km.predict(X)\n",
    "    \n",
    "聚类之后可以用matplotlib展示结果，以四个类别为例：但是只能指定特征中的任意两个特征来画\n",
    "- 一个类别一个颜色\n",
    "- color_list=['red','green','blue','pink']\n",
    "- colored = [color[i] for i in X_predict]\n",
    "- plt.scatter(X['任意特征一'],X['任意特征二'],color=colored)"
   ]
  },
  {
   "cell_type": "markdown",
   "id": "deb8a99c-2371-421b-aed0-9b75c832a419",
   "metadata": {
    "jp-MarkdownHeadingCollapsed": true,
    "tags": []
   },
   "source": [
    "## <mark style=background-color:pink>二、kmeans案例：Instacart Market用户聚类<mark>\n",
    "\n",
    "流程：没有数据看下流程\n",
    "- ①对数据进行降维，减少特征个数(特征工程三：数据降维：主成分分析PCA)\n",
    "- ②k-means聚类\n",
    "- ③聚类结果显示"
   ]
  },
  {
   "cell_type": "markdown",
   "id": "29b7fb67-5514-449d-a8f4-ad223610d8f5",
   "metadata": {
    "tags": []
   },
   "source": [
    "## <mark style=background-color:pink>三、kmeans案例<mark>"
   ]
  },
  {
   "cell_type": "markdown",
   "id": "f5aa6cec-766f-4588-ab48-fd2e474aa7e3",
   "metadata": {},
   "source": [
    "## <mark style=background-color:pink>四、kmeans性能评估指标<mark>\n",
    "聚类效果：\n",
    "- 外部距离远远大于内部距离：好\n",
    "- 内部距离远远大于外部距离：差\n",
    "    \n",
    "轮廓系数:\n",
    "- **每一个样本都有轮廓系数**\n",
    "- 计算公式：$SC_{i}=\\frac{b_{i}-a_{i}}{max(b_{i},a_{i})}$\n",
    "- 对于每个点i为已聚类数据中的样本，$b_{i}$为i分别到其它族群的样本点的距离先求平均值，又取族群距离平均值中最小的一个，$a_{i}$为i到自身所在族的距离平均值\n",
    "- 轮廓系数的范围：[-1,1]\n",
    "- **最终计算出所有的样本点的轮廓系数平均值,趋于1效果好，趋于-1效果不好**\n",
    "    \n",
    "sklearn中的KMeans性能评估：\n",
    "- 类：**sklearn.metrics.silhouette_score**\n",
    "- 实例化语法：**sklearn.metrics.silhouette_score(X,labels)**\n",
    "- X：特征值\n",
    "- labels：被聚类标记的目标值\n",
    "- 一般很难超过0.7"
   ]
  },
  {
   "cell_type": "markdown",
   "id": "5346f99e-f50b-46c4-a26a-6f2af9521d2a",
   "metadata": {},
   "source": [
    "## <mark style=background-color:pink>五、kmeans总结<mark>\n",
    "- 特点分析：采用迭代式算法，直观易懂并且非常实用\n",
    "- 缺点：容易收敛到**局部最优解(多次聚类)**\n",
    "- 聚类一般坐在分类前"
   ]
  }
 ],
 "metadata": {
  "kernelspec": {
   "display_name": "Python 3 (ipykernel)",
   "language": "python",
   "name": "python3"
  },
  "language_info": {
   "codemirror_mode": {
    "name": "ipython",
    "version": 3
   },
   "file_extension": ".py",
   "mimetype": "text/x-python",
   "name": "python",
   "nbconvert_exporter": "python",
   "pygments_lexer": "ipython3",
   "version": "3.9.7"
  }
 },
 "nbformat": 4,
 "nbformat_minor": 5
}
