{
 "cells": [
  {
   "cell_type": "markdown",
   "id": "153f92ee-cf76-4234-b2d6-1e7cd674e0ff",
   "metadata": {},
   "source": [
    "# 模型的保存与加载\n",
    "- 类：**sklearn.externals.joblib**"
   ]
  },
  {
   "cell_type": "code",
   "execution_count": null,
   "id": "c1735904-5514-4533-822b-f0dedef20534",
   "metadata": {},
   "outputs": [],
   "source": [
    "from sklearn.externals import joblib"
   ]
  },
  {
   "cell_type": "markdown",
   "id": "545289cf-60cd-47f8-b3a0-1829fdeafb95",
   "metadata": {
    "tags": []
   },
   "source": [
    "## <mark style=background-color:pink>一、模型的保存<mark>\n",
    "- **joblib.dump(estimator,'test.pkl')**\n",
    "- 文件格式pkl\n",
    "- 第二个参数为路径和名字"
   ]
  },
  {
   "cell_type": "markdown",
   "id": "d3416018-07a1-404b-b2e7-08a1d567ad3c",
   "metadata": {},
   "source": [
    "## <mark style=background-color:pink>一、模型的加载<mark>\n",
    "- **estimator = joblib.load('test.pkl')**\n",
    "- 文件格式pkl\n",
    "- 第一个参数为模型的保存路径\n",
    "\n",
    "estimator语法\n",
    "- estimator.**predict**(X_test)"
   ]
  }
 ],
 "metadata": {
  "kernelspec": {
   "display_name": "Python 3 (ipykernel)",
   "language": "python",
   "name": "python3"
  },
  "language_info": {
   "codemirror_mode": {
    "name": "ipython",
    "version": 3
   },
   "file_extension": ".py",
   "mimetype": "text/x-python",
   "name": "python",
   "nbconvert_exporter": "python",
   "pygments_lexer": "ipython3",
   "version": "3.9.7"
  }
 },
 "nbformat": 4,
 "nbformat_minor": 5
}
