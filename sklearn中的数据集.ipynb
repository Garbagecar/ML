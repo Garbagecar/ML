{
 "cells": [
  {
   "cell_type": "markdown",
   "id": "c38be02d-486c-4773-8fe2-cccebb9f8524",
   "metadata": {},
   "source": [
    "# sklearn中的数据集"
   ]
  },
  {
   "cell_type": "markdown",
   "id": "f429b70b-24e6-47ea-b395-a111735572b7",
   "metadata": {},
   "source": [
    "## <mark style=background-color:pink>数据集获取<mark>\n",
    "    \n",
    "**sklearn.datasets**\n",
    "- 获取流行数据集\n",
    "- **datasets.load**_*()：获取小规模数据集，数据包含在datasets里\n",
    "- **datasets.fetch**_*(data_home=None)：获取大规模数据集，需要从网络上下载，函数的第一个参数是data_home，表示数据集下载的目录，默认是~/scikit_learn_data\n",
    "    \n",
    "**load**和**fetch**返回的数据类型都是datasets.base.Bunch(**字典格式**)：\n",
    "- **data**：特征数据数组，是（n_samples，m_features）的二维numpy.ndarray数组\n",
    "- **target**：标签数组，是一维numpy.ndarry数组(n,)\n",
    "- **DESCR**：数据描述\n",
    "- **feature_names**：特征名，新闻数据，手写数字，回归数据集没有\n",
    "- **target_names**：标签名"
   ]
  },
  {
   "cell_type": "markdown",
   "id": "39d4d895-446a-4a43-a16f-c92400a2e143",
   "metadata": {
    "tags": []
   },
   "source": [
    "## <mark style=background-color:pink>分类数据集<mark>"
   ]
  },
  {
   "cell_type": "markdown",
   "id": "60d77beb-aa92-425c-b015-d6588c313047",
   "metadata": {},
   "source": [
    "### <mark>①鸢尾花数据集<mark>\n",
    "\n",
    "- 类别：3类，分别是'setosa'，'versicolor'，'virginica'\n",
    "- 特征：4个，分别是'sepal length (cm)', 'sepal width (cm)', 'petal length (cm)', 'petal width (cm)'\n",
    "- 样本数量：150\n",
    "- 每个类别数量：50\n",
    "- 类：**sklearn.datasets.load_iris**"
   ]
  },
  {
   "cell_type": "code",
   "execution_count": null,
   "id": "4572aea3-0303-4f1b-a7c5-d05a7a80e71e",
   "metadata": {
    "tags": []
   },
   "outputs": [],
   "source": [
    "#导入鸢尾花数据集的类\n",
    "from sklearn.datasets import load_iris\n",
    "\n",
    "#实例化鸢尾花数据集的类\n",
    "iris = load_iris()\n",
    "\n",
    "#获取特征值\n",
    "print(iris.data)\n",
    "\n",
    "#获取目标值(标签)\n",
    "print(iris.target)\n",
    "\n",
    "#查看数据情况,(150,4)表示150个样本，对应四个特征值\n",
    "print(iris.data.shape)\n",
    "\n",
    "#查看鸢尾花数据集的特征\n",
    "print(iris.feature_names)\n",
    "\n",
    "#查看鸢尾花数据集的类别\n",
    "print(iris.target_names)\n",
    "\n",
    "#而以上信息，其实只需要用一下方式就可以看到\n",
    "print(iris.DESCR)"
   ]
  },
  {
   "cell_type": "markdown",
   "id": "0cbc911b-d07a-49f5-b33a-b5441dbd8e12",
   "metadata": {
    "tags": []
   },
   "source": [
    "### <mark>②数字数据集<mark>\n",
    "\n",
    "- 类别：10类\n",
    "- 特征：64个\n",
    "- 样本数量：1797\n",
    "- 类：**sklearn.datasets.load_digits**"
   ]
  },
  {
   "cell_type": "code",
   "execution_count": null,
   "id": "1c180845-ddca-47fc-b7ef-5eabd32598e3",
   "metadata": {
    "tags": []
   },
   "outputs": [],
   "source": [
    "#导入数字数据集的类\n",
    "from sklearn.datasets import load_digits\n",
    "\n",
    "#实例化数字数据集的类\n",
    "digits = load_digits()\n",
    "\n",
    "#获取特征值\n",
    "print(digits.data)\n",
    "\n",
    "#获取目标值(标签)\n",
    "print(digits.target)\n",
    "\n",
    "#查看数据情况,(150,4)表示150个样本，对应四个特征值\n",
    "print(digits.data.shape)\n",
    "\n",
    "#查看数字数据集的特征\n",
    "print(digits.feature_names)\n",
    "\n",
    "#查看数字数据集的类别\n",
    "print(digits.target_names)\n",
    "\n",
    "#而以上信息，其实只需要用一下方式就可以看到\n",
    "print(digits.DESCR)"
   ]
  },
  {
   "cell_type": "markdown",
   "id": "82a6c30a-4588-40db-9e36-08d9c1137530",
   "metadata": {},
   "source": [
    "### <mark>③新闻数据集<mark>\n",
    "\n",
    "- 用于分类的新闻大数据集\n",
    "- 类：**sklearn.datasets.fetch_20newsgroups**\n",
    "- 实例化语法：**sklearn.datasets.fetch_20newsgroups(data_home=None,subset='train'|'test'|'all')**\n",
    "- 清除目录下的数据集：datasets.clear_data_home(data_home=None)\n",
    "    "
   ]
  },
  {
   "cell_type": "code",
   "execution_count": null,
   "id": "b09d7580-1a4d-41be-8821-0b0190dce675",
   "metadata": {
    "tags": []
   },
   "outputs": [],
   "source": [
    "#导入新闻数据集的类\n",
    "from sklearn.datasets import fetch_20newsgroups\n",
    "\n",
    "#实例化新闻数据集的类\n",
    "newsgroups = fetch_20newsgroups(data_home=r'E:\\jupyterlab\\ML',subset='all')\n",
    "\n",
    "#获取特征值\n",
    "print(newsgroups.data)\n",
    "\n",
    "#获取目标值(标签)\n",
    "print(newsgroups.target)\n"
   ]
  },
  {
   "cell_type": "markdown",
   "id": "de3de31b-2ca9-4331-b0a4-2f5c078fab42",
   "metadata": {
    "tags": []
   },
   "source": [
    "## <mark style=background-color:pink>回归数据集<mark>"
   ]
  },
  {
   "cell_type": "markdown",
   "id": "ee426f42-ad3e-4381-8abb-7e8c36bf4924",
   "metadata": {
    "tags": []
   },
   "source": [
    "### <mark>①波士顿房价数据集<mark>\n",
    "\n",
    "- 类别：5-50\n",
    "- 特征：13\n",
    "- 样本数量：506\n",
    "- 类：**sklearn.datasets.load_boston**"
   ]
  },
  {
   "cell_type": "markdown",
   "id": "ae70fae9-da73-4ca7-ad2a-ea136c5cab48",
   "metadata": {},
   "source": [
    "### <mark>②糖尿病数据集<mark>\n",
    "\n",
    "- 类别：25-346\n",
    "- 特征：10\n",
    "- 样本数量：442\n",
    "- 类：**sklearn.datasets.load_diabetes**"
   ]
  },
  {
   "cell_type": "markdown",
   "id": "41e64bbc-a86d-4aeb-bef8-6ed390316267",
   "metadata": {
    "tags": []
   },
   "source": [
    "## <mark style=background-color:pink>数据集划分<mark>\n",
    "    \n",
    "机器学习一般的数据集都会划分为两个部分：\n",
    "- **训练集**：用于训练，构建模型\n",
    "- **测试集**：在模型校验时使用，用于评估模型是否有效\n",
    "    \n",
    "一般训练集和测试集的比例划分：\n",
    "- 训练集：测试集 = 70% ：30%\n",
    "- 训练集：测试集 = 80% ：20%\n",
    "- 训练集：测试集 = **75% ：25%**"
   ]
  },
  {
   "cell_type": "markdown",
   "id": "9f6e2f65-6b5a-48f7-ae5b-ffc34bf7ef70",
   "metadata": {
    "jp-MarkdownHeadingCollapsed": true,
    "tags": []
   },
   "source": [
    "### <mark>sklearn中数据集划分<mark>\n",
    "\n",
    "**sklearn.model_selection.train_test_split**\n",
    "- sklearn.model_selection.train_test_split(*arrays,**options)\n",
    "- X：数据集的特征值\n",
    "- Y：数据集的标签值\n",
    "- test_size：**测试集的大小**，一般为float\n",
    "- random_state：随机数种子，不同的种子会造成不同的随机采样结果，相同的种子采样结果相同\n",
    "- return：训练集特征值X_train，测试集特征值X_test，训练集标签Y_train，测试集标签Y_test (默认随机抽取)\n",
    "    \n"
   ]
  },
  {
   "cell_type": "markdown",
   "id": "ab530ef5-d4c8-4b47-8050-53e966595347",
   "metadata": {},
   "source": [
    "### <mark>以鸢尾花数据集为例划分数据集<mark>"
   ]
  },
  {
   "cell_type": "code",
   "execution_count": null,
   "id": "c6ea630b-490b-46df-a12c-f4cfc13c8a97",
   "metadata": {
    "tags": []
   },
   "outputs": [],
   "source": [
    "#导入\n",
    "from sklearn.model_selection import train_test_split\n",
    "\n",
    "#注意返回值：训练集特征值X_train，测试集特征值X_test，训练集标签Y_train，测试集标签Y_test\n",
    "X_train,X_test,Y_train,Y_test = train_test_split(iris.data,iris.target,test_size=0.25)\n",
    "\n",
    "#查看训练集和测试集\n",
    "#print(\"训练集的特征值和目标值：\",X_train,Y_train)\n",
    "#print(\"测试集的特征值和目标值：\",X_test,Y_test)"
   ]
  }
 ],
 "metadata": {
  "kernelspec": {
   "display_name": "Python 3 (ipykernel)",
   "language": "python",
   "name": "python3"
  },
  "language_info": {
   "codemirror_mode": {
    "name": "ipython",
    "version": 3
   },
   "file_extension": ".py",
   "mimetype": "text/x-python",
   "name": "python",
   "nbconvert_exporter": "python",
   "pygments_lexer": "ipython3",
   "version": "3.9.7"
  }
 },
 "nbformat": 4,
 "nbformat_minor": 5
}
