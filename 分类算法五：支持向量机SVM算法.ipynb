{
 "cells": [
  {
   "cell_type": "markdown",
   "id": "65d9e52b-6c9b-430d-880b-b9852195d155",
   "metadata": {},
   "source": [
    "# 分类算法五：支持向量机SVM算法"
   ]
  },
  {
   "cell_type": "markdown",
   "id": "246411dc-6af2-43e1-918c-f593e54fd064",
   "metadata": {},
   "source": [
    "## <mark style=background-color:pink>一、什么是SVM<mark>\n",
    "    \n",
    "**支持向量机**：\n",
    "- Support Vector Machine，SVM\n",
    "- 一种**分类型**算法\n",
    "- 有监督学习\n",
    "\n",
    "**概述**：\n",
    "- 当一个分类问题，数据是**线性可分**的，也就是用一根棍就可以将两种小球分开的时候，只要将棍的位置放在让小球距离棍的**距离最大化的位置**即可\n",
    "- 寻找这个最大间隔的过程，就叫做**最优化**\n",
    "- 但是**一般的数据是线性不可分**的，也就是找不到一根棍子可以将两种小球很好的分类\n",
    "- 这个时候就需要像大侠一样，将小球拍起，用一张纸代替小棍将小球进行分类\n",
    "- 而想让数据像小球一样飞起，需要借助**核函数**\n",
    "- 用于分开小球的纸，就是**超平面**\n",
    "- 如果**数据集是N维**的，那么**超平面就是N-1维**的"
   ]
  },
  {
   "cell_type": "markdown",
   "id": "145afb0e-9170-4d29-92b1-15aa433e3fa1",
   "metadata": {},
   "source": []
  },
  {
   "cell_type": "markdown",
   "id": "d349718f-1497-43fd-9a60-00129c342619",
   "metadata": {
    "tags": []
   },
   "source": [
    "## <mark style=background-color:pink>二、线性SVM<mark>"
   ]
  },
  {
   "cell_type": "code",
   "execution_count": null,
   "id": "6b329276-ef6a-4c06-baa2-5368177303fe",
   "metadata": {},
   "outputs": [],
   "source": []
  },
  {
   "cell_type": "markdown",
   "id": "2d03911c-deb9-4672-9ecd-bd9bbbff6ab7",
   "metadata": {
    "tags": []
   },
   "source": [
    "## <mark style=background-color:pink>三、SMO算法：最小序列优化<mark>"
   ]
  },
  {
   "cell_type": "code",
   "execution_count": null,
   "id": "6a3fe913-377d-434b-ae13-e74be4274b35",
   "metadata": {},
   "outputs": [],
   "source": []
  }
 ],
 "metadata": {
  "kernelspec": {
   "display_name": "Python 3 (ipykernel)",
   "language": "python",
   "name": "python3"
  },
  "language_info": {
   "codemirror_mode": {
    "name": "ipython",
    "version": 3
   },
   "file_extension": ".py",
   "mimetype": "text/x-python",
   "name": "python",
   "nbconvert_exporter": "python",
   "pygments_lexer": "ipython3",
   "version": "3.9.7"
  }
 },
 "nbformat": 4,
 "nbformat_minor": 5
}
