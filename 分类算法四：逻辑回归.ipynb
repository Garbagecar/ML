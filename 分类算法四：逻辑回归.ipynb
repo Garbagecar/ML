{
 "cells": [
  {
   "cell_type": "markdown",
   "id": "5dd9740e-74fd-44a8-a2c7-ce99d2e8fbbc",
   "metadata": {
    "tags": []
   },
   "source": [
    "# 分类算法四：逻辑回归\n",
    "- 适用于解决二分类问题\n",
    "- 应用场景：广告点击率(点击、没点击)、是否为垃圾邮件、是否患病、金融诈骗、虚假账号.."
   ]
  },
  {
   "cell_type": "markdown",
   "id": "fa8ddbc0-904e-4a89-aabf-d58259a99614",
   "metadata": {
    "tags": []
   },
   "source": [
    "## <mark style=background-color:pink>一、sigmoid函数与逻辑回归公式<mark>\n",
    "- 逻辑回归输入：$Z(W) = w_{0} + w_{1}x_{1} + w_{2}x_{3} + ... =W^{T}X$\n",
    "- 逻辑回归的输入→sigmoid函数→分类输出\n",
    "    \n",
    "sigmoid函数：\n",
    "- 公式：$g(x) = \\frac{1}{1+e^{-x}}$\n",
    "\n",
    "sigmoid函数的特点：\n",
    "- 过点：(0,0.5)，默认0.5为阀值\n",
    "- 值域：[0,1]\n",
    "    \n",
    "逻辑回归公式：\n",
    "- 公式：$h_{\\theta}(X) = g(\\theta^{T}X)$\n"
   ]
  },
  {
   "cell_type": "markdown",
   "id": "95734e33-0b9c-4794-a495-c75c8ae82e26",
   "metadata": {},
   "source": [
    "## <mark style=background-color:pink>二、逻辑回归的损失函数、优化<mark>\n",
    "- 与线性回归原理相同，但由于是分类问题，损失函数不一样，只能通过梯度下降求解\n",
    "    \n",
    "对数似然损失函数：$cost(h_{\\theta}(x),y)$\n",
    "- 如果y=1：$-log(h_{\\theta}(x))$\n",
    "- 如果y=0：$-log(1-h_{\\theta}(x))$\n",
    "\n",
    "完整的损失函数：\n",
    "- $cost(h_{\\theta}(x),y) = \\sum_{i=1}^{m}-y_{i}log(h_{\\theta}(x))-(1-y_{i})log(1-h_{\\theta}(x))$\n",
    "    \n",
    "cost损失的值约小，那么预测的类别准确度更高\n",
    "    \n",
    "    \n",
    "**例**：\n",
    "\n",
    "|样本特征值|样本属于的类别|逻辑回归预测样本属于1类的概率|逻辑回归越策的类别(概率阈值：0.5)|\n",
    "|---------|-------------|----------------------------|--------|\n",
    "|样本1的特征值|1|0.6|1|\n",
    "|样本2的特征值|0|0.1|0|\n",
    "|样本3的特征值|0|0.51|1|\n",
    "|样本4的特征值|1|0.7|1|\n",
    "\n",
    "则该例中的损失为：1\\*log(0.6)+0\\*log(0.1)+0\\*log(0.51)+1\\*log(0.7)\n",
    "    \n",
    "**损失函数**：\n",
    "- 线性回归：均方误差(不存在多个局部最低点)，只有一个最小值\n",
    "- 逻辑回归：对数似然损失：多个局部最小值\n",
    "\n",
    "**梯度下降求解优化**：\n",
    "- 多次随机初始化，多次比较最小值结果\n",
    "- 求解过程当中，调整学习率"
   ]
  },
  {
   "cell_type": "markdown",
   "id": "91650575-5d7c-4be8-b885-fdf347ff7f57",
   "metadata": {},
   "source": [
    "## <mark style=background-color:pink>三、sklearn中的逻辑回归<mark>\n",
    "- 类：**sklearn.linear_model.LogisticRegression**\n",
    "- 实例化语法：**sklearn.linear_model.LogisticRegression(penalty='l2',C=1.0)**\n",
    "- penalty：正则化\n",
    "- C：正则化力度\n",
    "- estimator.coef_：回归系数\n",
    "- 哪一个类别数量少，判定的概率就是指这个类别的\n",
    "- 比如肿瘤数据集中，恶性类别较少，所以判定的概率是恶性的概率\n",
    "- 若概率为0.1，即恶性肿瘤的概率为0.1，低于阈值0.5，则为良性"
   ]
  },
  {
   "cell_type": "markdown",
   "id": "ecc1ca79-8043-430c-9b5c-6278949096f2",
   "metadata": {
    "toc-hr-collapsed": true
   },
   "source": [
    "## <mark style=background-color:pink>四、逻辑回归案例：良/恶性乳腺癌肿瘤预测<mark>\n",
    "- 良/恶性乳腺癌肿瘤预测\n",
    "- 原始数据下载地址：https://archive.ics.uci.edu/ml/machine-learning-databases/\n",
    "\n",
    "数据描述：\n",
    "- 699条样本，共11列数据，第一列用于检索的id，后9列分别是与肿瘤相关的医学特征，最后一列表示出肿瘤类型的数值\n",
    "- 包含了16个缺失值，用'?'标出\n",
    "- 良性：458，占 65.5%\n",
    "- 恶性：241，占 34.5%\n",
    "    \n",
    "|1|2|3|4|5|6|7|8|9|10|11|\n",
    "|--|--|--|--|--|--|--|--|--|--|--|\n",
    "|示例代号编码|块厚度1-10|细胞大小的一致性1-10|电池形状的均匀性1-10|边缘附着力1-10|单个上皮细胞大小1-10|裸核1-10|平淡的染色质1-10|正常核仁1-10|有丝分裂1-10|分类(2:良性,4:恶性)|\n",
    "\n",
    "    \n",
    "    \n",
    "    \n",
    "\n",
    "良/恶性乳腺癌肿瘤分类流程：\n",
    "- ①网上获取数据\n",
    "- ②数据缺失值处理、标准化\n",
    "- ③LogisticRegression估计器流程"
   ]
  },
  {
   "cell_type": "markdown",
   "id": "5f5d0337-0338-45c5-8a90-d65ac72db48a",
   "metadata": {},
   "source": [
    "### ①网上获取数据"
   ]
  },
  {
   "cell_type": "code",
   "execution_count": 3,
   "id": "a24148d9-e349-45b2-8c1c-080e9ab10f70",
   "metadata": {},
   "outputs": [],
   "source": [
    "#导入Pandas\n",
    "import pandas as pd\n",
    "\n",
    "#列名\n",
    "column_names = ['Sample code number','Clump Thickness','Uniformity of Cell Size','Uniformity of Cell Shape','Marginal Adhesion','Single Epithlial Cell Size','Bare Nuclei','Bland Chromatin','Normal Nucleoli','Mitoses','Class']\n",
    "\n",
    "#读取数据\n",
    "data = pd.read_csv(r\"E:\\jupyterlab\\ML\\breast-cancer-wisconsin.data\",names=column_names)"
   ]
  },
  {
   "cell_type": "markdown",
   "id": "63ee6e0b-5f8d-46b4-b1ce-65dba5ae6cb0",
   "metadata": {
    "tags": []
   },
   "source": [
    "### ②数据缺失值处理、标准化"
   ]
  },
  {
   "cell_type": "code",
   "execution_count": 5,
   "id": "3d5734a1-4816-48f4-b544-2d692e4f7d68",
   "metadata": {
    "tags": []
   },
   "outputs": [],
   "source": [
    "#导入numpy要使用np.nan\n",
    "import numpy as np\n",
    "\n",
    "#处理'？'标记的缺失值\n",
    "data.replace(to_replace='?',value=np.nan,inplace=True)"
   ]
  },
  {
   "cell_type": "code",
   "execution_count": 6,
   "id": "5d346b5e-41a0-4c51-a57f-3c19b5056351",
   "metadata": {},
   "outputs": [],
   "source": [
    "#删除缺失值\n",
    "data.dropna(inplace=True)"
   ]
  },
  {
   "cell_type": "code",
   "execution_count": 7,
   "id": "a213e741-d976-4ff5-8bfe-6ee1a202bbac",
   "metadata": {},
   "outputs": [
    {
     "name": "stdout",
     "output_type": "stream",
     "text": [
      "<class 'pandas.core.frame.DataFrame'>\n",
      "Int64Index: 683 entries, 0 to 698\n",
      "Data columns (total 11 columns):\n",
      " #   Column                      Non-Null Count  Dtype \n",
      "---  ------                      --------------  ----- \n",
      " 0   Sample code number          683 non-null    int64 \n",
      " 1   Clump Thickness             683 non-null    int64 \n",
      " 2   Uniformity of Cell Size     683 non-null    int64 \n",
      " 3   Uniformity of Cell Shape    683 non-null    int64 \n",
      " 4   Marginal Adhesion           683 non-null    int64 \n",
      " 5   Single Epithlial Cell Size  683 non-null    int64 \n",
      " 6   Bare Nuclei                 683 non-null    object\n",
      " 7   Bland Chromatin             683 non-null    int64 \n",
      " 8   Normal Nucleoli             683 non-null    int64 \n",
      " 9   Mitoses                     683 non-null    int64 \n",
      " 10  Class                       683 non-null    int64 \n",
      "dtypes: int64(10), object(1)\n",
      "memory usage: 64.0+ KB\n"
     ]
    }
   ],
   "source": [
    "#查看数据集的基本信息\n",
    "data.info()"
   ]
  },
  {
   "cell_type": "code",
   "execution_count": 9,
   "id": "e233926e-46ea-4fa5-a7b6-99f5b1d0e9e9",
   "metadata": {},
   "outputs": [],
   "source": [
    "#导入划分数据集的类\n",
    "from sklearn.model_selection import train_test_split\n",
    "\n",
    "#将数据集划分为训练集的特征值、测试集的特征值、训练集的目标值、测试集的目标值\n",
    "X_train,X_test,Y_train,Y_test = train_test_split(data.iloc[:,1:10],data.iloc[:,10],test_size=0.25,random_state=2021)"
   ]
  },
  {
   "cell_type": "code",
   "execution_count": 10,
   "id": "efa3613a-5163-42ec-88ed-e7388c6377ef",
   "metadata": {},
   "outputs": [],
   "source": [
    "#导入特征工程：数据预处理：标准化处理的类\n",
    "from sklearn.preprocessing import StandardScaler\n",
    "\n",
    "#实例化标准化处理的类，注意此时不同于线性回归无需目标值标准化\n",
    "std = StandardScaler()\n",
    "\n",
    "#对训练集和测试集的特征值进行标准化处理\n",
    "X_train = std.fit_transform(X_train)\n",
    "X_test = std.transform(X_test)"
   ]
  },
  {
   "cell_type": "markdown",
   "id": "eaef5c6b-5102-4491-9a15-c36732a65693",
   "metadata": {},
   "source": [
    "### ③LogisticRegression估计器流程"
   ]
  },
  {
   "cell_type": "code",
   "execution_count": 11,
   "id": "62846b10-65cf-44f9-8bef-5c6a4d840f48",
   "metadata": {},
   "outputs": [
    {
     "data": {
      "text/plain": [
       "LogisticRegression()"
      ]
     },
     "execution_count": 11,
     "metadata": {},
     "output_type": "execute_result"
    }
   ],
   "source": [
    "#导入逻辑回归的类\n",
    "from sklearn.linear_model import LogisticRegression\n",
    "\n",
    "#实例化\n",
    "logi = LogisticRegression()\n",
    "\n",
    "#传入数据训练逻辑回归算法得到模型\n",
    "logi.fit(X_train,Y_train)"
   ]
  },
  {
   "cell_type": "code",
   "execution_count": 12,
   "id": "567618aa-5b8d-408c-94ad-82e8eac9f734",
   "metadata": {},
   "outputs": [
    {
     "name": "stdout",
     "output_type": "stream",
     "text": [
      "逻辑回归模型的系数为： [[1.32510384 0.25533614 0.81079192 0.65030653 0.24254543 1.29061651\n",
      "  0.96929674 0.54621345 0.61570494]]\n",
      "逻辑回归的准确率为： 0.9649122807017544\n"
     ]
    }
   ],
   "source": [
    "#获得训练过后逻辑回归的系数\n",
    "print('逻辑回归模型的系数为：',logi.coef_)\n",
    "\n",
    "#对测试集进行预测，获得预测值\n",
    "Y_test_predict = logi.predict(X_test)\n",
    "\n",
    "#由于是分类问题，所以有准确率\n",
    "print('逻辑回归的准确率为：',logi.score(X_test,Y_test))"
   ]
  },
  {
   "cell_type": "code",
   "execution_count": 14,
   "id": "4da8a9e1-8968-4b4c-a80d-ff43782a3226",
   "metadata": {
    "tags": []
   },
   "outputs": [
    {
     "data": {
      "text/plain": [
       "'              precision    recall  f1-score   support\\n\\n          良性       0.97      0.97      0.97       105\\n          恶性       0.95      0.95      0.95        66\\n\\n    accuracy                           0.96       171\\n   macro avg       0.96      0.96      0.96       171\\nweighted avg       0.96      0.96      0.96       171\\n'"
      ]
     },
     "execution_count": 14,
     "metadata": {},
     "output_type": "execute_result"
    }
   ],
   "source": [
    "#但是这类预测癌症的问题并不注重的是准确率，而是召回率\n",
    "#也就是已知目标值是恶性肿瘤的，有多少个经过预测得到的值也是恶性\n",
    "\n",
    "#导入分类模型评估的类\n",
    "from sklearn.metrics import classification_report\n",
    "\n",
    "#召回率\n",
    "classification_report(Y_test,Y_test_predict,labels=[2,4],target_names=['良性','恶性'])"
   ]
  },
  {
   "cell_type": "markdown",
   "id": "91dec6fc-bd55-4a8e-9dd2-3ca75b783612",
   "metadata": {},
   "source": [
    "## <mark style=background-color:pink>五、逻辑回归总结<mark>\n",
    "- 应用：广告点击率预测、是否患病、金融诈骗、是否为虚假账号\n",
    "- 优点：适合需要得到一个分类概率的场景，简单，速度快\n",
    "- 缺点：不好处理多分类问题，但是可以做：也就是多分类拆解为多个二分类问题来做\n",
    "- 改进：softmax方法：逻辑回归在多分类问题上的推广，将在神经网络算法中介绍\n",
    "    \n",
    "逻辑回归和朴素贝叶斯：\n",
    "\n",
    "|算法|可以解决的问题类型|应用场景|参数|共同特点|是否需要求得先验概率|模型类别|\n",
    "|----|----------------|-------|----|-------|------------------|-------|\n",
    "|逻辑回归|二分类问题|癌症判别|正则化力度|得出的结果有概率解释|不需要|判别模型|\n",
    "|朴素贝叶斯|多分类问题|文本分类|-|得出的结果有概率解释|需要|生成模型|\n",
    "    \n",
    "\n",
    "    \n",
    "\n",
    "判别模型和生成模型：判别依据是是否需要先验数据(历史数据中的概率信息)\n",
    "- 判别模型：KNN，决策树，随机森林，神经网络\n",
    "- 生成模型：朴素贝叶斯"
   ]
  }
 ],
 "metadata": {
  "kernelspec": {
   "display_name": "Python 3 (ipykernel)",
   "language": "python",
   "name": "python3"
  },
  "language_info": {
   "codemirror_mode": {
    "name": "ipython",
    "version": 3
   },
   "file_extension": ".py",
   "mimetype": "text/x-python",
   "name": "python",
   "nbconvert_exporter": "python",
   "pygments_lexer": "ipython3",
   "version": "3.9.7"
  }
 },
 "nbformat": 4,
 "nbformat_minor": 5
}
